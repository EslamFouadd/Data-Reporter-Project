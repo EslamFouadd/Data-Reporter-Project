{
 "cells": [
  {
   "cell_type": "code",
   "execution_count": 1,
   "id": "6d818081",
   "metadata": {
    "_cell_guid": "b1076dfc-b9ad-4769-8c92-a6c4dae69d19",
    "_uuid": "8f2839f25d086af736a60e9eeb907d3b93b6e0e5",
    "execution": {
     "iopub.execute_input": "2023-06-15T14:35:26.690507Z",
     "iopub.status.busy": "2023-06-15T14:35:26.689729Z",
     "iopub.status.idle": "2023-06-15T14:35:28.445891Z",
     "shell.execute_reply": "2023-06-15T14:35:28.445204Z"
    },
    "papermill": {
     "duration": 1.770126,
     "end_time": "2023-06-15T14:35:28.447926",
     "exception": false,
     "start_time": "2023-06-15T14:35:26.677800",
     "status": "completed"
    },
    "tags": []
   },
   "outputs": [],
   "source": [
    "#Ignoring warnings\n",
    "import warnings\n",
    "warnings.filterwarnings(\"ignore\")\n",
    "\n",
    "#Math and Vectors\n",
    "import numpy as np\n",
    "import pandas as pd\n",
    "from scipy.stats import pearsonr\n",
    "\n",
    "#Visualization\n",
    "import matplotlib.pyplot as plt\n",
    "import seaborn as sns\n",
    "import missingno as msno\n",
    "\n",
    "#ML\n",
    "from sklearn.linear_model import LinearRegression, Ridge\n",
    "from sklearn.model_selection import train_test_split\n",
    "from sklearn.ensemble import RandomForestRegressor\n",
    "from sklearn.tree import DecisionTreeRegressor\n",
    "from sklearn.neighbors import KNeighborsRegressor\n",
    "from sklearn.preprocessing import StandardScaler, PolynomialFeatures\n",
    "from sklearn.pipeline import Pipeline\n",
    "from sklearn import metrics\n",
    "from sklearn.metrics import r2_score"
   ]
  },
  {
   "cell_type": "code",
   "execution_count": 2,
   "id": "4c389986",
   "metadata": {
    "execution": {
     "iopub.execute_input": "2023-06-15T14:35:28.468941Z",
     "iopub.status.busy": "2023-06-15T14:35:28.468363Z",
     "iopub.status.idle": "2023-06-15T14:35:28.481124Z",
     "shell.execute_reply": "2023-06-15T14:35:28.480049Z"
    },
    "papermill": {
     "duration": 0.025108,
     "end_time": "2023-06-15T14:35:28.482934",
     "exception": false,
     "start_time": "2023-06-15T14:35:28.457826",
     "status": "completed"
    },
    "tags": []
   },
   "outputs": [
    {
     "name": "stdout",
     "output_type": "stream",
     "text": [
      "/kaggle/input/iris/Iris.csv\n",
      "/kaggle/input/iris/database.sqlite\n"
     ]
    }
   ],
   "source": [
    "import os\n",
    "for dirname, _, filenames in os.walk('/kaggle/input'):\n",
    "    for filename in filenames:\n",
    "        print(os.path.join(dirname, filename))"
   ]
  },
  {
   "cell_type": "code",
   "execution_count": 3,
   "id": "de135a3a",
   "metadata": {
    "execution": {
     "iopub.execute_input": "2023-06-15T14:35:28.503740Z",
     "iopub.status.busy": "2023-06-15T14:35:28.503424Z",
     "iopub.status.idle": "2023-06-15T14:35:28.520187Z",
     "shell.execute_reply": "2023-06-15T14:35:28.519199Z"
    },
    "papermill": {
     "duration": 0.02967,
     "end_time": "2023-06-15T14:35:28.522196",
     "exception": false,
     "start_time": "2023-06-15T14:35:28.492526",
     "status": "completed"
    },
    "tags": []
   },
   "outputs": [],
   "source": [
    "df = pd.read_csv(\"/kaggle/input/iris/Iris.csv\")"
   ]
  },
  {
   "cell_type": "markdown",
   "id": "dd1be04c",
   "metadata": {
    "papermill": {
     "duration": 0.009387,
     "end_time": "2023-06-15T14:35:28.541492",
     "exception": false,
     "start_time": "2023-06-15T14:35:28.532105",
     "status": "completed"
    },
    "tags": []
   },
   "source": [
    "# Data Exploration"
   ]
  },
  {
   "cell_type": "code",
   "execution_count": 4,
   "id": "156ac655",
   "metadata": {
    "execution": {
     "iopub.execute_input": "2023-06-15T14:35:28.562298Z",
     "iopub.status.busy": "2023-06-15T14:35:28.561936Z",
     "iopub.status.idle": "2023-06-15T14:35:28.587382Z",
     "shell.execute_reply": "2023-06-15T14:35:28.586721Z"
    },
    "papermill": {
     "duration": 0.037624,
     "end_time": "2023-06-15T14:35:28.588786",
     "exception": false,
     "start_time": "2023-06-15T14:35:28.551162",
     "status": "completed"
    },
    "tags": []
   },
   "outputs": [
    {
     "data": {
      "text/html": [
       "<div>\n",
       "<style scoped>\n",
       "    .dataframe tbody tr th:only-of-type {\n",
       "        vertical-align: middle;\n",
       "    }\n",
       "\n",
       "    .dataframe tbody tr th {\n",
       "        vertical-align: top;\n",
       "    }\n",
       "\n",
       "    .dataframe thead th {\n",
       "        text-align: right;\n",
       "    }\n",
       "</style>\n",
       "<table border=\"1\" class=\"dataframe\">\n",
       "  <thead>\n",
       "    <tr style=\"text-align: right;\">\n",
       "      <th></th>\n",
       "      <th>Id</th>\n",
       "      <th>SepalLengthCm</th>\n",
       "      <th>SepalWidthCm</th>\n",
       "      <th>PetalLengthCm</th>\n",
       "      <th>PetalWidthCm</th>\n",
       "      <th>Species</th>\n",
       "    </tr>\n",
       "  </thead>\n",
       "  <tbody>\n",
       "    <tr>\n",
       "      <th>0</th>\n",
       "      <td>1</td>\n",
       "      <td>5.1</td>\n",
       "      <td>3.5</td>\n",
       "      <td>1.4</td>\n",
       "      <td>0.2</td>\n",
       "      <td>Iris-setosa</td>\n",
       "    </tr>\n",
       "    <tr>\n",
       "      <th>1</th>\n",
       "      <td>2</td>\n",
       "      <td>4.9</td>\n",
       "      <td>3.0</td>\n",
       "      <td>1.4</td>\n",
       "      <td>0.2</td>\n",
       "      <td>Iris-setosa</td>\n",
       "    </tr>\n",
       "    <tr>\n",
       "      <th>2</th>\n",
       "      <td>3</td>\n",
       "      <td>4.7</td>\n",
       "      <td>3.2</td>\n",
       "      <td>1.3</td>\n",
       "      <td>0.2</td>\n",
       "      <td>Iris-setosa</td>\n",
       "    </tr>\n",
       "    <tr>\n",
       "      <th>3</th>\n",
       "      <td>4</td>\n",
       "      <td>4.6</td>\n",
       "      <td>3.1</td>\n",
       "      <td>1.5</td>\n",
       "      <td>0.2</td>\n",
       "      <td>Iris-setosa</td>\n",
       "    </tr>\n",
       "    <tr>\n",
       "      <th>4</th>\n",
       "      <td>5</td>\n",
       "      <td>5.0</td>\n",
       "      <td>3.6</td>\n",
       "      <td>1.4</td>\n",
       "      <td>0.2</td>\n",
       "      <td>Iris-setosa</td>\n",
       "    </tr>\n",
       "  </tbody>\n",
       "</table>\n",
       "</div>"
      ],
      "text/plain": [
       "   Id  SepalLengthCm  SepalWidthCm  PetalLengthCm  PetalWidthCm      Species\n",
       "0   1            5.1           3.5            1.4           0.2  Iris-setosa\n",
       "1   2            4.9           3.0            1.4           0.2  Iris-setosa\n",
       "2   3            4.7           3.2            1.3           0.2  Iris-setosa\n",
       "3   4            4.6           3.1            1.5           0.2  Iris-setosa\n",
       "4   5            5.0           3.6            1.4           0.2  Iris-setosa"
      ]
     },
     "execution_count": 4,
     "metadata": {},
     "output_type": "execute_result"
    }
   ],
   "source": [
    "df.head()"
   ]
  },
  {
   "cell_type": "code",
   "execution_count": 5,
   "id": "59e93244",
   "metadata": {
    "execution": {
     "iopub.execute_input": "2023-06-15T14:35:28.610202Z",
     "iopub.status.busy": "2023-06-15T14:35:28.609592Z",
     "iopub.status.idle": "2023-06-15T14:35:28.617921Z",
     "shell.execute_reply": "2023-06-15T14:35:28.617051Z"
    },
    "papermill": {
     "duration": 0.020935,
     "end_time": "2023-06-15T14:35:28.619605",
     "exception": false,
     "start_time": "2023-06-15T14:35:28.598670",
     "status": "completed"
    },
    "tags": []
   },
   "outputs": [],
   "source": [
    "df = df.drop(\"Id\", axis = 1)"
   ]
  },
  {
   "cell_type": "code",
   "execution_count": 6,
   "id": "e59ace0f",
   "metadata": {
    "execution": {
     "iopub.execute_input": "2023-06-15T14:35:28.640325Z",
     "iopub.status.busy": "2023-06-15T14:35:28.639970Z",
     "iopub.status.idle": "2023-06-15T14:35:28.657814Z",
     "shell.execute_reply": "2023-06-15T14:35:28.656668Z"
    },
    "papermill": {
     "duration": 0.030845,
     "end_time": "2023-06-15T14:35:28.660025",
     "exception": false,
     "start_time": "2023-06-15T14:35:28.629180",
     "status": "completed"
    },
    "tags": []
   },
   "outputs": [
    {
     "name": "stdout",
     "output_type": "stream",
     "text": [
      "<class 'pandas.core.frame.DataFrame'>\n",
      "RangeIndex: 150 entries, 0 to 149\n",
      "Data columns (total 5 columns):\n",
      " #   Column         Non-Null Count  Dtype  \n",
      "---  ------         --------------  -----  \n",
      " 0   SepalLengthCm  150 non-null    float64\n",
      " 1   SepalWidthCm   150 non-null    float64\n",
      " 2   PetalLengthCm  150 non-null    float64\n",
      " 3   PetalWidthCm   150 non-null    float64\n",
      " 4   Species        150 non-null    object \n",
      "dtypes: float64(4), object(1)\n",
      "memory usage: 6.0+ KB\n"
     ]
    }
   ],
   "source": [
    "df.info()"
   ]
  },
  {
   "cell_type": "markdown",
   "id": "2c58ef0c",
   "metadata": {
    "papermill": {
     "duration": 0.01005,
     "end_time": "2023-06-15T14:35:28.680630",
     "exception": false,
     "start_time": "2023-06-15T14:35:28.670580",
     "status": "completed"
    },
    "tags": []
   },
   "source": [
    "# EDA"
   ]
  },
  {
   "cell_type": "code",
   "execution_count": 7,
   "id": "cbca9b78",
   "metadata": {
    "execution": {
     "iopub.execute_input": "2023-06-15T14:35:28.702859Z",
     "iopub.status.busy": "2023-06-15T14:35:28.702524Z",
     "iopub.status.idle": "2023-06-15T14:35:28.708850Z",
     "shell.execute_reply": "2023-06-15T14:35:28.707778Z"
    },
    "papermill": {
     "duration": 0.01979,
     "end_time": "2023-06-15T14:35:28.710819",
     "exception": false,
     "start_time": "2023-06-15T14:35:28.691029",
     "status": "completed"
    },
    "tags": []
   },
   "outputs": [
    {
     "data": {
      "text/plain": [
       "array(['Iris-setosa', 'Iris-versicolor', 'Iris-virginica'], dtype=object)"
      ]
     },
     "execution_count": 7,
     "metadata": {},
     "output_type": "execute_result"
    }
   ],
   "source": [
    "df[\"Species\"].unique()"
   ]
  },
  {
   "cell_type": "code",
   "execution_count": 8,
   "id": "6ca64b4a",
   "metadata": {
    "execution": {
     "iopub.execute_input": "2023-06-15T14:35:28.731752Z",
     "iopub.status.busy": "2023-06-15T14:35:28.731465Z",
     "iopub.status.idle": "2023-06-15T14:35:29.615583Z",
     "shell.execute_reply": "2023-06-15T14:35:29.614805Z"
    },
    "papermill": {
     "duration": 0.896383,
     "end_time": "2023-06-15T14:35:29.617191",
     "exception": false,
     "start_time": "2023-06-15T14:35:28.720808",
     "status": "completed"
    },
    "tags": []
   },
   "outputs": [
    {
     "data": {
      "text/plain": [
       "array([[<Axes: title={'center': 'SepalLengthCm'}>,\n",
       "        <Axes: title={'center': 'SepalWidthCm'}>],\n",
       "       [<Axes: title={'center': 'PetalLengthCm'}>,\n",
       "        <Axes: title={'center': 'PetalWidthCm'}>]], dtype=object)"
      ]
     },
     "execution_count": 8,
     "metadata": {},
     "output_type": "execute_result"
    },
    {
     "data": {
      "image/png": "[encoded data removed]",
      "text/plain": [
       "<Figure size 1700x700 with 4 Axes>"
      ]
     },
     "metadata": {},
     "output_type": "display_data"
    }
   ],
   "source": [
    "df.hist(figsize = (17, 7))"
   ]
  },
  {
   "cell_type": "code",
   "execution_count": 9,
   "id": "b173e4b2",
   "metadata": {
    "execution": {
     "iopub.execute_input": "2023-06-15T14:35:29.639992Z",
     "iopub.status.busy": "2023-06-15T14:35:29.639481Z",
     "iopub.status.idle": "2023-06-15T14:35:29.895915Z",
     "shell.execute_reply": "2023-06-15T14:35:29.894951Z"
    },
    "papermill": {
     "duration": 0.269996,
     "end_time": "2023-06-15T14:35:29.897927",
     "exception": false,
     "start_time": "2023-06-15T14:35:29.627931",
     "status": "completed"
    },
    "tags": []
   },
   "outputs": [
    {
     "data": {
      "text/plain": [
       "Text(0, 0.5, 'Centimeters')"
      ]
     },
     "execution_count": 9,
     "metadata": {},
     "output_type": "execute_result"
    },
    {
     "data": {
      "image/png": "[encoded data removed]",
      "text/plain": [
       "<Figure size 1700x700 with 1 Axes>"
      ]
     },
     "metadata": {},
     "output_type": "display_data"
    }
   ],
   "source": [
    "#Checking outliers\n",
    "df.plot(kind = \"box\", figsize = (17, 7))\n",
    "plt.title(\"BoxPlot Distribution of Petal and Sepals in CMs\")\n",
    "plt.ylabel(\"Centimeters\")"
   ]
  },
  {
   "cell_type": "code",
   "execution_count": 10,
   "id": "9561fab0",
   "metadata": {
    "execution": {
     "iopub.execute_input": "2023-06-15T14:35:29.923992Z",
     "iopub.status.busy": "2023-06-15T14:35:29.923705Z",
     "iopub.status.idle": "2023-06-15T14:35:29.943997Z",
     "shell.execute_reply": "2023-06-15T14:35:29.943130Z"
    },
    "papermill": {
     "duration": 0.035259,
     "end_time": "2023-06-15T14:35:29.946148",
     "exception": false,
     "start_time": "2023-06-15T14:35:29.910889",
     "status": "completed"
    },
    "tags": []
   },
   "outputs": [
    {
     "data": {
      "text/html": [
       "<div>\n",
       "<style scoped>\n",
       "    .dataframe tbody tr th:only-of-type {\n",
       "        vertical-align: middle;\n",
       "    }\n",
       "\n",
       "    .dataframe tbody tr th {\n",
       "        vertical-align: top;\n",
       "    }\n",
       "\n",
       "    .dataframe thead th {\n",
       "        text-align: right;\n",
       "    }\n",
       "</style>\n",
       "<table border=\"1\" class=\"dataframe\">\n",
       "  <thead>\n",
       "    <tr style=\"text-align: right;\">\n",
       "      <th></th>\n",
       "      <th>SepalLengthCm</th>\n",
       "      <th>SepalWidthCm</th>\n",
       "      <th>PetalLengthCm</th>\n",
       "      <th>PetalWidthCm</th>\n",
       "    </tr>\n",
       "  </thead>\n",
       "  <tbody>\n",
       "    <tr>\n",
       "      <th>count</th>\n",
       "      <td>150.000000</td>\n",
       "      <td>150.000000</td>\n",
       "      <td>150.000000</td>\n",
       "      <td>150.000000</td>\n",
       "    </tr>\n",
       "    <tr>\n",
       "      <th>mean</th>\n",
       "      <td>5.843333</td>\n",
       "      <td>3.054000</td>\n",
       "      <td>3.758667</td>\n",
       "      <td>1.198667</td>\n",
       "    </tr>\n",
       "    <tr>\n",
       "      <th>std</th>\n",
       "      <td>0.828066</td>\n",
       "      <td>0.433594</td>\n",
       "      <td>1.764420</td>\n",
       "      <td>0.763161</td>\n",
       "    </tr>\n",
       "    <tr>\n",
       "      <th>min</th>\n",
       "      <td>4.300000</td>\n",
       "      <td>2.000000</td>\n",
       "      <td>1.000000</td>\n",
       "      <td>0.100000</td>\n",
       "    </tr>\n",
       "    <tr>\n",
       "      <th>25%</th>\n",
       "      <td>5.100000</td>\n",
       "      <td>2.800000</td>\n",
       "      <td>1.600000</td>\n",
       "      <td>0.300000</td>\n",
       "    </tr>\n",
       "    <tr>\n",
       "      <th>50%</th>\n",
       "      <td>5.800000</td>\n",
       "      <td>3.000000</td>\n",
       "      <td>4.350000</td>\n",
       "      <td>1.300000</td>\n",
       "    </tr>\n",
       "    <tr>\n",
       "      <th>75%</th>\n",
       "      <td>6.400000</td>\n",
       "      <td>3.300000</td>\n",
       "      <td>5.100000</td>\n",
       "      <td>1.800000</td>\n",
       "    </tr>\n",
       "    <tr>\n",
       "      <th>max</th>\n",
       "      <td>7.900000</td>\n",
       "      <td>4.400000</td>\n",
       "      <td>6.900000</td>\n",
       "      <td>2.500000</td>\n",
       "    </tr>\n",
       "  </tbody>\n",
       "</table>\n",
       "</div>"
      ],
      "text/plain": [
       "       SepalLengthCm  SepalWidthCm  PetalLengthCm  PetalWidthCm\n",
       "count     150.000000    150.000000     150.000000    150.000000\n",
       "mean        5.843333      3.054000       3.758667      1.198667\n",
       "std         0.828066      0.433594       1.764420      0.763161\n",
       "min         4.300000      2.000000       1.000000      0.100000\n",
       "25%         5.100000      2.800000       1.600000      0.300000\n",
       "50%         5.800000      3.000000       4.350000      1.300000\n",
       "75%         6.400000      3.300000       5.100000      1.800000\n",
       "max         7.900000      4.400000       6.900000      2.500000"
      ]
     },
     "execution_count": 10,
     "metadata": {},
     "output_type": "execute_result"
    }
   ],
   "source": [
    "df.describe()"
   ]
  },
  {
   "cell_type": "markdown",
   "id": "5fc674d8",
   "metadata": {
    "papermill": {
     "duration": 0.010858,
     "end_time": "2023-06-15T14:35:29.969214",
     "exception": false,
     "start_time": "2023-06-15T14:35:29.958356",
     "status": "completed"
    },
    "tags": []
   },
   "source": [
    "**It seems that the SepalWidthCm column has some outliers. We will remove them using a standard scale before we create our model.**"
   ]
  },
  {
   "cell_type": "code",
   "execution_count": 11,
   "id": "be709394",
   "metadata": {
    "execution": {
     "iopub.execute_input": "2023-06-15T14:35:29.993013Z",
     "iopub.status.busy": "2023-06-15T14:35:29.992248Z",
     "iopub.status.idle": "2023-06-15T14:35:30.129053Z",
     "shell.execute_reply": "2023-06-15T14:35:30.128235Z"
    },
    "papermill": {
     "duration": 0.150933,
     "end_time": "2023-06-15T14:35:30.131094",
     "exception": false,
     "start_time": "2023-06-15T14:35:29.980161",
     "status": "completed"
    },
    "tags": []
   },
   "outputs": [
    {
     "data": {
      "text/plain": [
       "<Axes: >"
      ]
     },
     "execution_count": 11,
     "metadata": {},
     "output_type": "execute_result"
    },
    {
     "data": {
      "image/png": "[encoded data removed]",
      "text/plain": [
       "<Figure size 1000x500 with 1 Axes>"
      ]
     },
     "metadata": {},
     "output_type": "display_data"
    }
   ],
   "source": [
    "df[\"SepalWidthCm\"].plot(kind = \"box\", figsize = (10, 5))"
   ]
  },
  {
   "cell_type": "markdown",
   "id": "f9f5b912",
   "metadata": {
    "papermill": {
     "duration": 0.0129,
     "end_time": "2023-06-15T14:35:30.159377",
     "exception": false,
     "start_time": "2023-06-15T14:35:30.146477",
     "status": "completed"
    },
    "tags": []
   },
   "source": [
    "### The Distribution of Species Types VS Sepal Length and Width"
   ]
  },
  {
   "cell_type": "code",
   "execution_count": 12,
   "id": "24e2989c",
   "metadata": {
    "execution": {
     "iopub.execute_input": "2023-06-15T14:35:30.183766Z",
     "iopub.status.busy": "2023-06-15T14:35:30.183455Z",
     "iopub.status.idle": "2023-06-15T14:35:30.481948Z",
     "shell.execute_reply": "2023-06-15T14:35:30.480689Z"
    },
    "papermill": {
     "duration": 0.313255,
     "end_time": "2023-06-15T14:35:30.484163",
     "exception": false,
     "start_time": "2023-06-15T14:35:30.170908",
     "status": "completed"
    },
    "tags": []
   },
   "outputs": [
    {
     "data": {
      "image/png": "[encoded data removed]",
      "text/plain": [
       "<Figure size 1000x600 with 1 Axes>"
      ]
     },
     "metadata": {},
     "output_type": "display_data"
    }
   ],
   "source": [
    "fig = df[df.Species == \"Iris-setosa\"].plot(kind = \"scatter\", x = \"SepalLengthCm\", y = \"SepalWidthCm\", color = \"orange\", label = \"Setosa\")\n",
    "df[df.Species == \"Iris-versicolor\"].plot(kind = \"scatter\", x = \"SepalLengthCm\", y = \"SepalWidthCm\", color = \"blue\", label = \"Versicolor\", ax = fig)\n",
    "df[df.Species == \"Iris-virginica\"].plot(kind = \"scatter\", x = \"SepalLengthCm\", y = \"SepalWidthCm\", color = \"green\", label = \"virginica\", ax = fig)\n",
    "fig.set_xlabel(\"Sepal Length\")\n",
    "fig.set_ylabel(\"Sepal Width\")\n",
    "fig.set_title(\"Sepal Length VS Width in relation to Species\")\n",
    "fig = plt.gcf()\n",
    "fig.set_size_inches(10, 6)\n",
    "plt.show()"
   ]
  },
  {
   "cell_type": "markdown",
   "id": "5adc8166",
   "metadata": {
    "papermill": {
     "duration": 0.011383,
     "end_time": "2023-06-15T14:35:30.507634",
     "exception": false,
     "start_time": "2023-06-15T14:35:30.496251",
     "status": "completed"
    },
    "tags": []
   },
   "source": [
    "**We can see that both sepal width and length varies for all three species. Versicolor and Virginica sepal width are almost just alike. While Setosa sepal length are much shorter but they are broader. on average, Virginca has the longest sepal length.**"
   ]
  },
  {
   "cell_type": "code",
   "execution_count": 13,
   "id": "d80be0e8",
   "metadata": {
    "execution": {
     "iopub.execute_input": "2023-06-15T14:35:30.532390Z",
     "iopub.status.busy": "2023-06-15T14:35:30.532071Z",
     "iopub.status.idle": "2023-06-15T14:35:30.960990Z",
     "shell.execute_reply": "2023-06-15T14:35:30.959492Z"
    },
    "papermill": {
     "duration": 0.443371,
     "end_time": "2023-06-15T14:35:30.962719",
     "exception": false,
     "start_time": "2023-06-15T14:35:30.519348",
     "status": "completed"
    },
    "tags": []
   },
   "outputs": [
    {
     "data": {
      "image/png": "[encoded data removed]",
      "text/plain": [
       "<Figure size 1000x600 with 1 Axes>"
      ]
     },
     "metadata": {},
     "output_type": "display_data"
    }
   ],
   "source": [
    "fig = df[df.Species == \"Iris-setosa\"].plot(kind = \"scatter\", x = \"PetalLengthCm\", y = \"PetalWidthCm\", color = \"orange\", label = \"Setosa\")\n",
    "df[df.Species == \"Iris-versicolor\"].plot(kind = \"scatter\", x = \"PetalLengthCm\", y = \"PetalWidthCm\", color = \"blue\", label = \"Versicolor\", ax = fig)\n",
    "df[df.Species == \"Iris-virginica\"].plot(kind = \"scatter\", x = \"PetalLengthCm\", y = \"PetalWidthCm\", color = \"green\", label = \"virginica\", ax = fig)\n",
    "fig.set_xlabel(\"Petal Length\")\n",
    "fig.set_ylabel(\"Petal Width\")\n",
    "fig.set_title(\"Petal Length VS Width in relation to Species\")\n",
    "fig = plt.gcf()\n",
    "fig.set_size_inches(10, 6)\n",
    "plt.show()"
   ]
  },
  {
   "cell_type": "markdown",
   "id": "bc657e14",
   "metadata": {
    "papermill": {
     "duration": 0.012107,
     "end_time": "2023-06-15T14:35:30.987717",
     "exception": false,
     "start_time": "2023-06-15T14:35:30.975610",
     "status": "completed"
    },
    "tags": []
   },
   "source": [
    "**Here we can see that distrbution of petal length and width for the three iris species. On Average, the Setosas have a much shorter lenth and width. Next in line is the Versicolor. And then the Virginicas have the longest length and width. We also see a clear positive line going up, as the length of the petal increases, so does the petal width.**"
   ]
  },
  {
   "cell_type": "markdown",
   "id": "87f948b7",
   "metadata": {
    "papermill": {
     "duration": 0.011757,
     "end_time": "2023-06-15T14:35:31.011442",
     "exception": false,
     "start_time": "2023-06-15T14:35:30.999685",
     "status": "completed"
    },
    "tags": []
   },
   "source": [
    "## Viewing Correlations"
   ]
  },
  {
   "cell_type": "code",
   "execution_count": 14,
   "id": "7ee9a6c5",
   "metadata": {
    "execution": {
     "iopub.execute_input": "2023-06-15T14:35:31.037567Z",
     "iopub.status.busy": "2023-06-15T14:35:31.036649Z",
     "iopub.status.idle": "2023-06-15T14:35:31.314628Z",
     "shell.execute_reply": "2023-06-15T14:35:31.313448Z"
    },
    "papermill": {
     "duration": 0.292949,
     "end_time": "2023-06-15T14:35:31.316395",
     "exception": false,
     "start_time": "2023-06-15T14:35:31.023446",
     "status": "completed"
    },
    "tags": []
   },
   "outputs": [
    {
     "data": {
      "text/plain": [
       "<Axes: >"
      ]
     },
     "execution_count": 14,
     "metadata": {},
     "output_type": "execute_result"
    },
    {
     "data": {
      "image/png": "[encoded data removed]",
      "text/plain": [
       "<Figure size 640x480 with 2 Axes>"
      ]
     },
     "metadata": {},
     "output_type": "display_data"
    }
   ],
   "source": [
    "sns.heatmap(df.corr(), cmap = \"OrRd\", annot = True)"
   ]
  },
  {
   "cell_type": "markdown",
   "id": "1f0ce8e9",
   "metadata": {
    "papermill": {
     "duration": 0.012537,
     "end_time": "2023-06-15T14:35:31.342044",
     "exception": false,
     "start_time": "2023-06-15T14:35:31.329507",
     "status": "completed"
    },
    "tags": []
   },
   "source": [
    "**Here we can see a higher correlation among PetalLength with all of the other variables. With this, Petal Length might be a better indicator on how big the blossoms will be this year. We try to predict the petal length for this study.\n",
    "Let's use a regression plot visualize the relationships.**"
   ]
  },
  {
   "cell_type": "code",
   "execution_count": 15,
   "id": "7643bd9a",
   "metadata": {
    "execution": {
     "iopub.execute_input": "2023-06-15T14:35:31.369355Z",
     "iopub.status.busy": "2023-06-15T14:35:31.368765Z",
     "iopub.status.idle": "2023-06-15T14:35:31.948950Z",
     "shell.execute_reply": "2023-06-15T14:35:31.947945Z"
    },
    "papermill": {
     "duration": 0.595978,
     "end_time": "2023-06-15T14:35:31.950776",
     "exception": false,
     "start_time": "2023-06-15T14:35:31.354798",
     "status": "completed"
    },
    "tags": []
   },
   "outputs": [
    {
     "data": {
      "text/plain": [
       "<Axes: xlabel='SepalWidthCm', ylabel='SepalWidthCm'>"
      ]
     },
     "execution_count": 15,
     "metadata": {},
     "output_type": "execute_result"
    },
    {
     "data": {
      "image/png": "[encoded data removed]",
      "text/plain": [
       "<Figure size 2500x600 with 2 Axes>"
      ]
     },
     "metadata": {},
     "output_type": "display_data"
    }
   ],
   "source": [
    "plt.figure(figsize = (25, 6))\n",
    "plt.subplot(1, 2, 1)\n",
    "sns.regplot(x = \"PetalWidthCm\", y = \"PetalLengthCm\", data = df)\n",
    "plt.subplot(1, 2, 2)\n",
    "sns.regplot(x = \"SepalWidthCm\", y = \"SepalWidthCm\", data = df)"
   ]
  },
  {
   "cell_type": "markdown",
   "id": "be5f9e8a",
   "metadata": {
    "papermill": {
     "duration": 0.013334,
     "end_time": "2023-06-15T14:35:31.977848",
     "exception": false,
     "start_time": "2023-06-15T14:35:31.964514",
     "status": "completed"
    },
    "tags": []
   },
   "source": [
    "**Here we can see that both Petal Width and Sepal Length have a strong positive relationship with Petal Length. As Petal Width and Sepal Width increases so does the Petal Length!**"
   ]
  },
  {
   "cell_type": "code",
   "execution_count": 16,
   "id": "100adba2",
   "metadata": {
    "execution": {
     "iopub.execute_input": "2023-06-15T14:35:32.008592Z",
     "iopub.status.busy": "2023-06-15T14:35:32.008170Z",
     "iopub.status.idle": "2023-06-15T14:35:32.303702Z",
     "shell.execute_reply": "2023-06-15T14:35:32.302838Z"
    },
    "papermill": {
     "duration": 0.314092,
     "end_time": "2023-06-15T14:35:32.305397",
     "exception": false,
     "start_time": "2023-06-15T14:35:31.991305",
     "status": "completed"
    },
    "tags": []
   },
   "outputs": [
    {
     "data": {
      "text/plain": [
       "<Axes: xlabel='SepalWidthCm', ylabel='PetalLengthCm'>"
      ]
     },
     "execution_count": 16,
     "metadata": {},
     "output_type": "execute_result"
    },
    {
     "data": {
      "image/png": "[encoded data removed]",
      "text/plain": [
       "<Figure size 640x480 with 1 Axes>"
      ]
     },
     "metadata": {},
     "output_type": "display_data"
    }
   ],
   "source": [
    "sns.regplot(x = \"SepalWidthCm\", y = \"PetalLengthCm\", data = df)"
   ]
  },
  {
   "cell_type": "markdown",
   "id": "ed101a1a",
   "metadata": {
    "papermill": {
     "duration": 0.014002,
     "end_time": "2023-06-15T14:35:32.334759",
     "exception": false,
     "start_time": "2023-06-15T14:35:32.320757",
     "status": "completed"
    },
    "tags": []
   },
   "source": [
    "**Here we can see a strong negative relationship between Petal Length and Sepal Width. As Petal Length increases, the sepal width decreases! Let's take a look at the p-value.**"
   ]
  },
  {
   "cell_type": "code",
   "execution_count": 17,
   "id": "c1a4f595",
   "metadata": {
    "execution": {
     "iopub.execute_input": "2023-06-15T14:35:32.364333Z",
     "iopub.status.busy": "2023-06-15T14:35:32.363987Z",
     "iopub.status.idle": "2023-06-15T14:35:32.371512Z",
     "shell.execute_reply": "2023-06-15T14:35:32.370851Z"
    },
    "papermill": {
     "duration": 0.024172,
     "end_time": "2023-06-15T14:35:32.372976",
     "exception": false,
     "start_time": "2023-06-15T14:35:32.348804",
     "status": "completed"
    },
    "tags": []
   },
   "outputs": [],
   "source": [
    "#p-value test\n",
    "Petal_W_P = pearsonr(df[\"PetalWidthCm\"], df[\"PetalLengthCm\"])\n",
    "Sepal_W_P = pearsonr(df[\"SepalWidthCm\"], df[\"PetalLengthCm\"])\n",
    "Sepal_L_P = pearsonr(df[\"SepalLengthCm\"], df[\"PetalLengthCm\"])"
   ]
  },
  {
   "cell_type": "code",
   "execution_count": 18,
   "id": "471b0786",
   "metadata": {
    "execution": {
     "iopub.execute_input": "2023-06-15T14:35:32.402519Z",
     "iopub.status.busy": "2023-06-15T14:35:32.401805Z",
     "iopub.status.idle": "2023-06-15T14:35:32.411203Z",
     "shell.execute_reply": "2023-06-15T14:35:32.410348Z"
    },
    "papermill": {
     "duration": 0.025877,
     "end_time": "2023-06-15T14:35:32.412830",
     "exception": false,
     "start_time": "2023-06-15T14:35:32.386953",
     "status": "completed"
    },
    "tags": []
   },
   "outputs": [
    {
     "data": {
      "text/html": [
       "<div>\n",
       "<style scoped>\n",
       "    .dataframe tbody tr th:only-of-type {\n",
       "        vertical-align: middle;\n",
       "    }\n",
       "\n",
       "    .dataframe tbody tr th {\n",
       "        vertical-align: top;\n",
       "    }\n",
       "\n",
       "    .dataframe thead th {\n",
       "        text-align: right;\n",
       "    }\n",
       "</style>\n",
       "<table border=\"1\" class=\"dataframe\">\n",
       "  <thead>\n",
       "    <tr style=\"text-align: right;\">\n",
       "      <th></th>\n",
       "      <th>PetalWidthCm</th>\n",
       "      <th>SepalWidthCm</th>\n",
       "      <th>SepalLengthCm</th>\n",
       "    </tr>\n",
       "  </thead>\n",
       "  <tbody>\n",
       "    <tr>\n",
       "      <th>0</th>\n",
       "      <td>9.627571e-01</td>\n",
       "      <td>-4.205161e-01</td>\n",
       "      <td>8.717542e-01</td>\n",
       "    </tr>\n",
       "    <tr>\n",
       "      <th>1</th>\n",
       "      <td>5.776661e-86</td>\n",
       "      <td>8.429366e-08</td>\n",
       "      <td>1.038454e-47</td>\n",
       "    </tr>\n",
       "  </tbody>\n",
       "</table>\n",
       "</div>"
      ],
      "text/plain": [
       "   PetalWidthCm  SepalWidthCm  SepalLengthCm\n",
       "0  9.627571e-01 -4.205161e-01   8.717542e-01\n",
       "1  5.776661e-86  8.429366e-08   1.038454e-47"
      ]
     },
     "execution_count": 18,
     "metadata": {},
     "output_type": "execute_result"
    }
   ],
   "source": [
    "p_value_t = pd.DataFrame({\n",
    "    \"PetalWidthCm\": Petal_W_P,\n",
    "    \"SepalWidthCm\": Sepal_W_P,\n",
    "    \"SepalLengthCm\": Sepal_L_P\n",
    "})\n",
    "p_value_t"
   ]
  },
  {
   "cell_type": "markdown",
   "id": "8a75de57",
   "metadata": {
    "papermill": {
     "duration": 0.013924,
     "end_time": "2023-06-15T14:35:32.441260",
     "exception": false,
     "start_time": "2023-06-15T14:35:32.427336",
     "status": "completed"
    },
    "tags": []
   },
   "source": [
    "**We can see that p-value scores are all below 0.05, so it can be concluded that the results(relationships) are statistically significant.**"
   ]
  },
  {
   "cell_type": "markdown",
   "id": "cab37535",
   "metadata": {
    "papermill": {
     "duration": 0.013781,
     "end_time": "2023-06-15T14:35:32.469155",
     "exception": false,
     "start_time": "2023-06-15T14:35:32.455374",
     "status": "completed"
    },
    "tags": []
   },
   "source": [
    "## Machine Learning Model"
   ]
  },
  {
   "cell_type": "code",
   "execution_count": 19,
   "id": "36f7818e",
   "metadata": {
    "execution": {
     "iopub.execute_input": "2023-06-15T14:35:32.498854Z",
     "iopub.status.busy": "2023-06-15T14:35:32.498332Z",
     "iopub.status.idle": "2023-06-15T14:35:32.505783Z",
     "shell.execute_reply": "2023-06-15T14:35:32.505231Z"
    },
    "papermill": {
     "duration": 0.024168,
     "end_time": "2023-06-15T14:35:32.507314",
     "exception": false,
     "start_time": "2023-06-15T14:35:32.483146",
     "status": "completed"
    },
    "tags": []
   },
   "outputs": [],
   "source": [
    "#let's prepare the data for testing and training\n",
    "\n",
    "#one hot coding \n",
    "species_2 = pd.get_dummies(df['Species'], drop_first=True)\n",
    "\n",
    "X = pd.concat([species_2, df[['PetalWidthCm', 'SepalWidthCm', 'SepalLengthCm']]], axis=1)\n",
    "y = df['PetalLengthCm']"
   ]
  },
  {
   "cell_type": "code",
   "execution_count": 20,
   "id": "24e637a0",
   "metadata": {
    "execution": {
     "iopub.execute_input": "2023-06-15T14:35:32.536973Z",
     "iopub.status.busy": "2023-06-15T14:35:32.536701Z",
     "iopub.status.idle": "2023-06-15T14:35:32.549203Z",
     "shell.execute_reply": "2023-06-15T14:35:32.547843Z"
    },
    "papermill": {
     "duration": 0.029401,
     "end_time": "2023-06-15T14:35:32.550998",
     "exception": false,
     "start_time": "2023-06-15T14:35:32.521597",
     "status": "completed"
    },
    "tags": []
   },
   "outputs": [
    {
     "data": {
      "text/html": [
       "<div>\n",
       "<style scoped>\n",
       "    .dataframe tbody tr th:only-of-type {\n",
       "        vertical-align: middle;\n",
       "    }\n",
       "\n",
       "    .dataframe tbody tr th {\n",
       "        vertical-align: top;\n",
       "    }\n",
       "\n",
       "    .dataframe thead th {\n",
       "        text-align: right;\n",
       "    }\n",
       "</style>\n",
       "<table border=\"1\" class=\"dataframe\">\n",
       "  <thead>\n",
       "    <tr style=\"text-align: right;\">\n",
       "      <th></th>\n",
       "      <th>Iris-versicolor</th>\n",
       "      <th>Iris-virginica</th>\n",
       "      <th>PetalWidthCm</th>\n",
       "      <th>SepalWidthCm</th>\n",
       "      <th>SepalLengthCm</th>\n",
       "    </tr>\n",
       "  </thead>\n",
       "  <tbody>\n",
       "    <tr>\n",
       "      <th>0</th>\n",
       "      <td>0</td>\n",
       "      <td>0</td>\n",
       "      <td>0.2</td>\n",
       "      <td>3.5</td>\n",
       "      <td>5.1</td>\n",
       "    </tr>\n",
       "    <tr>\n",
       "      <th>1</th>\n",
       "      <td>0</td>\n",
       "      <td>0</td>\n",
       "      <td>0.2</td>\n",
       "      <td>3.0</td>\n",
       "      <td>4.9</td>\n",
       "    </tr>\n",
       "    <tr>\n",
       "      <th>2</th>\n",
       "      <td>0</td>\n",
       "      <td>0</td>\n",
       "      <td>0.2</td>\n",
       "      <td>3.2</td>\n",
       "      <td>4.7</td>\n",
       "    </tr>\n",
       "    <tr>\n",
       "      <th>3</th>\n",
       "      <td>0</td>\n",
       "      <td>0</td>\n",
       "      <td>0.2</td>\n",
       "      <td>3.1</td>\n",
       "      <td>4.6</td>\n",
       "    </tr>\n",
       "    <tr>\n",
       "      <th>4</th>\n",
       "      <td>0</td>\n",
       "      <td>0</td>\n",
       "      <td>0.2</td>\n",
       "      <td>3.6</td>\n",
       "      <td>5.0</td>\n",
       "    </tr>\n",
       "    <tr>\n",
       "      <th>...</th>\n",
       "      <td>...</td>\n",
       "      <td>...</td>\n",
       "      <td>...</td>\n",
       "      <td>...</td>\n",
       "      <td>...</td>\n",
       "    </tr>\n",
       "    <tr>\n",
       "      <th>145</th>\n",
       "      <td>0</td>\n",
       "      <td>1</td>\n",
       "      <td>2.3</td>\n",
       "      <td>3.0</td>\n",
       "      <td>6.7</td>\n",
       "    </tr>\n",
       "    <tr>\n",
       "      <th>146</th>\n",
       "      <td>0</td>\n",
       "      <td>1</td>\n",
       "      <td>1.9</td>\n",
       "      <td>2.5</td>\n",
       "      <td>6.3</td>\n",
       "    </tr>\n",
       "    <tr>\n",
       "      <th>147</th>\n",
       "      <td>0</td>\n",
       "      <td>1</td>\n",
       "      <td>2.0</td>\n",
       "      <td>3.0</td>\n",
       "      <td>6.5</td>\n",
       "    </tr>\n",
       "    <tr>\n",
       "      <th>148</th>\n",
       "      <td>0</td>\n",
       "      <td>1</td>\n",
       "      <td>2.3</td>\n",
       "      <td>3.4</td>\n",
       "      <td>6.2</td>\n",
       "    </tr>\n",
       "    <tr>\n",
       "      <th>149</th>\n",
       "      <td>0</td>\n",
       "      <td>1</td>\n",
       "      <td>1.8</td>\n",
       "      <td>3.0</td>\n",
       "      <td>5.9</td>\n",
       "    </tr>\n",
       "  </tbody>\n",
       "</table>\n",
       "<p>150 rows × 5 columns</p>\n",
       "</div>"
      ],
      "text/plain": [
       "     Iris-versicolor  Iris-virginica  PetalWidthCm  SepalWidthCm  \\\n",
       "0                  0               0           0.2           3.5   \n",
       "1                  0               0           0.2           3.0   \n",
       "2                  0               0           0.2           3.2   \n",
       "3                  0               0           0.2           3.1   \n",
       "4                  0               0           0.2           3.6   \n",
       "..               ...             ...           ...           ...   \n",
       "145                0               1           2.3           3.0   \n",
       "146                0               1           1.9           2.5   \n",
       "147                0               1           2.0           3.0   \n",
       "148                0               1           2.3           3.4   \n",
       "149                0               1           1.8           3.0   \n",
       "\n",
       "     SepalLengthCm  \n",
       "0              5.1  \n",
       "1              4.9  \n",
       "2              4.7  \n",
       "3              4.6  \n",
       "4              5.0  \n",
       "..             ...  \n",
       "145            6.7  \n",
       "146            6.3  \n",
       "147            6.5  \n",
       "148            6.2  \n",
       "149            5.9  \n",
       "\n",
       "[150 rows x 5 columns]"
      ]
     },
     "execution_count": 20,
     "metadata": {},
     "output_type": "execute_result"
    }
   ],
   "source": [
    "X"
   ]
  },
  {
   "cell_type": "code",
   "execution_count": 21,
   "id": "39bc682b",
   "metadata": {
    "execution": {
     "iopub.execute_input": "2023-06-15T14:35:32.582045Z",
     "iopub.status.busy": "2023-06-15T14:35:32.581422Z",
     "iopub.status.idle": "2023-06-15T14:35:32.588070Z",
     "shell.execute_reply": "2023-06-15T14:35:32.587511Z"
    },
    "papermill": {
     "duration": 0.023923,
     "end_time": "2023-06-15T14:35:32.589590",
     "exception": false,
     "start_time": "2023-06-15T14:35:32.565667",
     "status": "completed"
    },
    "tags": []
   },
   "outputs": [
    {
     "data": {
      "text/plain": [
       "0      1.4\n",
       "1      1.4\n",
       "2      1.3\n",
       "3      1.5\n",
       "4      1.4\n",
       "      ... \n",
       "145    5.2\n",
       "146    5.0\n",
       "147    5.2\n",
       "148    5.4\n",
       "149    5.1\n",
       "Name: PetalLengthCm, Length: 150, dtype: float64"
      ]
     },
     "execution_count": 21,
     "metadata": {},
     "output_type": "execute_result"
    }
   ],
   "source": [
    "y"
   ]
  },
  {
   "cell_type": "code",
   "execution_count": 22,
   "id": "f5544aa0",
   "metadata": {
    "execution": {
     "iopub.execute_input": "2023-06-15T14:35:32.620873Z",
     "iopub.status.busy": "2023-06-15T14:35:32.620097Z",
     "iopub.status.idle": "2023-06-15T14:35:32.625244Z",
     "shell.execute_reply": "2023-06-15T14:35:32.624681Z"
    },
    "papermill": {
     "duration": 0.022152,
     "end_time": "2023-06-15T14:35:32.626660",
     "exception": false,
     "start_time": "2023-06-15T14:35:32.604508",
     "status": "completed"
    },
    "tags": []
   },
   "outputs": [],
   "source": [
    "#Splitting the data into training and testing\n",
    "X_train, X_test, y_train, y_test = train_test_split(X, y, random_state = 0)"
   ]
  },
  {
   "cell_type": "code",
   "execution_count": 23,
   "id": "e253d186",
   "metadata": {
    "execution": {
     "iopub.execute_input": "2023-06-15T14:35:32.657079Z",
     "iopub.status.busy": "2023-06-15T14:35:32.656337Z",
     "iopub.status.idle": "2023-06-15T14:35:32.661832Z",
     "shell.execute_reply": "2023-06-15T14:35:32.660718Z"
    },
    "papermill": {
     "duration": 0.022396,
     "end_time": "2023-06-15T14:35:32.663502",
     "exception": false,
     "start_time": "2023-06-15T14:35:32.641106",
     "status": "completed"
    },
    "tags": []
   },
   "outputs": [
    {
     "name": "stdout",
     "output_type": "stream",
     "text": [
      "(112, 5) (38, 5) (112,) (38,)\n"
     ]
    }
   ],
   "source": [
    "print(X_train.shape, X_test.shape, y_train.shape, y_test.shape)"
   ]
  },
  {
   "cell_type": "markdown",
   "id": "3e057a94",
   "metadata": {
    "papermill": {
     "duration": 0.01457,
     "end_time": "2023-06-15T14:35:32.694800",
     "exception": false,
     "start_time": "2023-06-15T14:35:32.680230",
     "status": "completed"
    },
    "tags": []
   },
   "source": [
    "## Multilinear Regression"
   ]
  },
  {
   "cell_type": "code",
   "execution_count": 24,
   "id": "cc1653c8",
   "metadata": {
    "execution": {
     "iopub.execute_input": "2023-06-15T14:35:32.727189Z",
     "iopub.status.busy": "2023-06-15T14:35:32.726871Z",
     "iopub.status.idle": "2023-06-15T14:35:32.756102Z",
     "shell.execute_reply": "2023-06-15T14:35:32.755511Z"
    },
    "papermill": {
     "duration": 0.04805,
     "end_time": "2023-06-15T14:35:32.757737",
     "exception": false,
     "start_time": "2023-06-15T14:35:32.709687",
     "status": "completed"
    },
    "tags": []
   },
   "outputs": [
    {
     "data": {
      "text/html": [
       "<style>#sk-container-id-1 {color: black;background-color: white;}#sk-container-id-1 pre{padding: 0;}#sk-container-id-1 div.sk-toggleable {background-color: white;}#sk-container-id-1 label.sk-toggleable__label {cursor: pointer;display: block;width: 100%;margin-bottom: 0;padding: 0.3em;box-sizing: border-box;text-align: center;}#sk-container-id-1 label.sk-toggleable__label-arrow:before {content: \"▸\";float: left;margin-right: 0.25em;color: #696969;}#sk-container-id-1 label.sk-toggleable__label-arrow:hover:before {color: black;}#sk-container-id-1 div.sk-estimator:hover label.sk-toggleable__label-arrow:before {color: black;}#sk-container-id-1 div.sk-toggleable__content {max-height: 0;max-width: 0;overflow: hidden;text-align: left;background-color: #f0f8ff;}#sk-container-id-1 div.sk-toggleable__content pre {margin: 0.2em;color: black;border-radius: 0.25em;background-color: #f0f8ff;}#sk-container-id-1 input.sk-toggleable__control:checked~div.sk-toggleable__content {max-height: 200px;max-width: 100%;overflow: auto;}#sk-container-id-1 input.sk-toggleable__control:checked~label.sk-toggleable__label-arrow:before {content: \"▾\";}#sk-container-id-1 div.sk-estimator input.sk-toggleable__control:checked~label.sk-toggleable__label {background-color: #d4ebff;}#sk-container-id-1 div.sk-label input.sk-toggleable__control:checked~label.sk-toggleable__label {background-color: #d4ebff;}#sk-container-id-1 input.sk-hidden--visually {border: 0;clip: rect(1px 1px 1px 1px);clip: rect(1px, 1px, 1px, 1px);height: 1px;margin: -1px;overflow: hidden;padding: 0;position: absolute;width: 1px;}#sk-container-id-1 div.sk-estimator {font-family: monospace;background-color: #f0f8ff;border: 1px dotted black;border-radius: 0.25em;box-sizing: border-box;margin-bottom: 0.5em;}#sk-container-id-1 div.sk-estimator:hover {background-color: #d4ebff;}#sk-container-id-1 div.sk-parallel-item::after {content: \"\";width: 100%;border-bottom: 1px solid gray;flex-grow: 1;}#sk-container-id-1 div.sk-label:hover label.sk-toggleable__label {background-color: #d4ebff;}#sk-container-id-1 div.sk-serial::before {content: \"\";position: absolute;border-left: 1px solid gray;box-sizing: border-box;top: 0;bottom: 0;left: 50%;z-index: 0;}#sk-container-id-1 div.sk-serial {display: flex;flex-direction: column;align-items: center;background-color: white;padding-right: 0.2em;padding-left: 0.2em;position: relative;}#sk-container-id-1 div.sk-item {position: relative;z-index: 1;}#sk-container-id-1 div.sk-parallel {display: flex;align-items: stretch;justify-content: center;background-color: white;position: relative;}#sk-container-id-1 div.sk-item::before, #sk-container-id-1 div.sk-parallel-item::before {content: \"\";position: absolute;border-left: 1px solid gray;box-sizing: border-box;top: 0;bottom: 0;left: 50%;z-index: -1;}#sk-container-id-1 div.sk-parallel-item {display: flex;flex-direction: column;z-index: 1;position: relative;background-color: white;}#sk-container-id-1 div.sk-parallel-item:first-child::after {align-self: flex-end;width: 50%;}#sk-container-id-1 div.sk-parallel-item:last-child::after {align-self: flex-start;width: 50%;}#sk-container-id-1 div.sk-parallel-item:only-child::after {width: 0;}#sk-container-id-1 div.sk-dashed-wrapped {border: 1px dashed gray;margin: 0 0.4em 0.5em 0.4em;box-sizing: border-box;padding-bottom: 0.4em;background-color: white;}#sk-container-id-1 div.sk-label label {font-family: monospace;font-weight: bold;display: inline-block;line-height: 1.2em;}#sk-container-id-1 div.sk-label-container {text-align: center;}#sk-container-id-1 div.sk-container {/* jupyter's `normalize.less` sets `[hidden] { display: none; }` but bootstrap.min.css set `[hidden] { display: none !important; }` so we also need the `!important` here to be able to override the default hidden behavior on the sphinx rendered scikit-learn.org. See: https://github.com/scikit-learn/scikit-learn/issues/21755 */display: inline-block !important;position: relative;}#sk-container-id-1 div.sk-text-repr-fallback {display: none;}</style><div id=\"sk-container-id-1\" class=\"sk-top-container\"><div class=\"sk-text-repr-fallback\"><pre>Pipeline(steps=[(&#x27;scaler&#x27;, StandardScaler()), (&#x27;mode&#x27;, LinearRegression())])</pre><b>In a Jupyter environment, please rerun this cell to show the HTML representation or trust the notebook. <br />On GitHub, the HTML representation is unable to render, please try loading this page with nbviewer.org.</b></div><div class=\"sk-container\" hidden><div class=\"sk-item sk-dashed-wrapped\"><div class=\"sk-label-container\"><div class=\"sk-label sk-toggleable\"><input class=\"sk-toggleable__control sk-hidden--visually\" id=\"sk-estimator-id-1\" type=\"checkbox\" ><label for=\"sk-estimator-id-1\" class=\"sk-toggleable__label sk-toggleable__label-arrow\">Pipeline</label><div class=\"sk-toggleable__content\"><pre>Pipeline(steps=[(&#x27;scaler&#x27;, StandardScaler()), (&#x27;mode&#x27;, LinearRegression())])</pre></div></div></div><div class=\"sk-serial\"><div class=\"sk-item\"><div class=\"sk-estimator sk-toggleable\"><input class=\"sk-toggleable__control sk-hidden--visually\" id=\"sk-estimator-id-2\" type=\"checkbox\" ><label for=\"sk-estimator-id-2\" class=\"sk-toggleable__label sk-toggleable__label-arrow\">StandardScaler</label><div class=\"sk-toggleable__content\"><pre>StandardScaler()</pre></div></div></div><div class=\"sk-item\"><div class=\"sk-estimator sk-toggleable\"><input class=\"sk-toggleable__control sk-hidden--visually\" id=\"sk-estimator-id-3\" type=\"checkbox\" ><label for=\"sk-estimator-id-3\" class=\"sk-toggleable__label sk-toggleable__label-arrow\">LinearRegression</label><div class=\"sk-toggleable__content\"><pre>LinearRegression()</pre></div></div></div></div></div></div></div>"
      ],
      "text/plain": [
       "Pipeline(steps=[('scaler', StandardScaler()), ('mode', LinearRegression())])"
      ]
     },
     "execution_count": 24,
     "metadata": {},
     "output_type": "execute_result"
    }
   ],
   "source": [
    "Input = [\n",
    "    (\"scaler\", StandardScaler()),\n",
    "    (\"mode\", LinearRegression())\n",
    "]\n",
    "pipe = Pipeline(Input)\n",
    "pipe.fit(X_train, y_train)"
   ]
  },
  {
   "cell_type": "code",
   "execution_count": 25,
   "id": "11d905b7",
   "metadata": {
    "execution": {
     "iopub.execute_input": "2023-06-15T14:35:32.790688Z",
     "iopub.status.busy": "2023-06-15T14:35:32.789917Z",
     "iopub.status.idle": "2023-06-15T14:35:32.797136Z",
     "shell.execute_reply": "2023-06-15T14:35:32.796439Z"
    },
    "papermill": {
     "duration": 0.025967,
     "end_time": "2023-06-15T14:35:32.799061",
     "exception": false,
     "start_time": "2023-06-15T14:35:32.773094",
     "status": "completed"
    },
    "tags": []
   },
   "outputs": [],
   "source": [
    "y_pipe = pipe.predict(X_test)\n",
    "ml_score = pipe.score(X_test, y_test)"
   ]
  },
  {
   "cell_type": "markdown",
   "id": "24221ff3",
   "metadata": {
    "papermill": {
     "duration": 0.014592,
     "end_time": "2023-06-15T14:35:32.829113",
     "exception": false,
     "start_time": "2023-06-15T14:35:32.814521",
     "status": "completed"
    },
    "tags": []
   },
   "source": [
    "## Polynomial Regression"
   ]
  },
  {
   "cell_type": "code",
   "execution_count": 26,
   "id": "9c2ceaa1",
   "metadata": {
    "execution": {
     "iopub.execute_input": "2023-06-15T14:35:32.861656Z",
     "iopub.status.busy": "2023-06-15T14:35:32.861320Z",
     "iopub.status.idle": "2023-06-15T14:35:32.880644Z",
     "shell.execute_reply": "2023-06-15T14:35:32.879506Z"
    },
    "papermill": {
     "duration": 0.037676,
     "end_time": "2023-06-15T14:35:32.882465",
     "exception": false,
     "start_time": "2023-06-15T14:35:32.844789",
     "status": "completed"
    },
    "tags": []
   },
   "outputs": [
    {
     "data": {
      "text/html": [
       "<style>#sk-container-id-2 {color: black;background-color: white;}#sk-container-id-2 pre{padding: 0;}#sk-container-id-2 div.sk-toggleable {background-color: white;}#sk-container-id-2 label.sk-toggleable__label {cursor: pointer;display: block;width: 100%;margin-bottom: 0;padding: 0.3em;box-sizing: border-box;text-align: center;}#sk-container-id-2 label.sk-toggleable__label-arrow:before {content: \"▸\";float: left;margin-right: 0.25em;color: #696969;}#sk-container-id-2 label.sk-toggleable__label-arrow:hover:before {color: black;}#sk-container-id-2 div.sk-estimator:hover label.sk-toggleable__label-arrow:before {color: black;}#sk-container-id-2 div.sk-toggleable__content {max-height: 0;max-width: 0;overflow: hidden;text-align: left;background-color: #f0f8ff;}#sk-container-id-2 div.sk-toggleable__content pre {margin: 0.2em;color: black;border-radius: 0.25em;background-color: #f0f8ff;}#sk-container-id-2 input.sk-toggleable__control:checked~div.sk-toggleable__content {max-height: 200px;max-width: 100%;overflow: auto;}#sk-container-id-2 input.sk-toggleable__control:checked~label.sk-toggleable__label-arrow:before {content: \"▾\";}#sk-container-id-2 div.sk-estimator input.sk-toggleable__control:checked~label.sk-toggleable__label {background-color: #d4ebff;}#sk-container-id-2 div.sk-label input.sk-toggleable__control:checked~label.sk-toggleable__label {background-color: #d4ebff;}#sk-container-id-2 input.sk-hidden--visually {border: 0;clip: rect(1px 1px 1px 1px);clip: rect(1px, 1px, 1px, 1px);height: 1px;margin: -1px;overflow: hidden;padding: 0;position: absolute;width: 1px;}#sk-container-id-2 div.sk-estimator {font-family: monospace;background-color: #f0f8ff;border: 1px dotted black;border-radius: 0.25em;box-sizing: border-box;margin-bottom: 0.5em;}#sk-container-id-2 div.sk-estimator:hover {background-color: #d4ebff;}#sk-container-id-2 div.sk-parallel-item::after {content: \"\";width: 100%;border-bottom: 1px solid gray;flex-grow: 1;}#sk-container-id-2 div.sk-label:hover label.sk-toggleable__label {background-color: #d4ebff;}#sk-container-id-2 div.sk-serial::before {content: \"\";position: absolute;border-left: 1px solid gray;box-sizing: border-box;top: 0;bottom: 0;left: 50%;z-index: 0;}#sk-container-id-2 div.sk-serial {display: flex;flex-direction: column;align-items: center;background-color: white;padding-right: 0.2em;padding-left: 0.2em;position: relative;}#sk-container-id-2 div.sk-item {position: relative;z-index: 1;}#sk-container-id-2 div.sk-parallel {display: flex;align-items: stretch;justify-content: center;background-color: white;position: relative;}#sk-container-id-2 div.sk-item::before, #sk-container-id-2 div.sk-parallel-item::before {content: \"\";position: absolute;border-left: 1px solid gray;box-sizing: border-box;top: 0;bottom: 0;left: 50%;z-index: -1;}#sk-container-id-2 div.sk-parallel-item {display: flex;flex-direction: column;z-index: 1;position: relative;background-color: white;}#sk-container-id-2 div.sk-parallel-item:first-child::after {align-self: flex-end;width: 50%;}#sk-container-id-2 div.sk-parallel-item:last-child::after {align-self: flex-start;width: 50%;}#sk-container-id-2 div.sk-parallel-item:only-child::after {width: 0;}#sk-container-id-2 div.sk-dashed-wrapped {border: 1px dashed gray;margin: 0 0.4em 0.5em 0.4em;box-sizing: border-box;padding-bottom: 0.4em;background-color: white;}#sk-container-id-2 div.sk-label label {font-family: monospace;font-weight: bold;display: inline-block;line-height: 1.2em;}#sk-container-id-2 div.sk-label-container {text-align: center;}#sk-container-id-2 div.sk-container {/* jupyter's `normalize.less` sets `[hidden] { display: none; }` but bootstrap.min.css set `[hidden] { display: none !important; }` so we also need the `!important` here to be able to override the default hidden behavior on the sphinx rendered scikit-learn.org. See: https://github.com/scikit-learn/scikit-learn/issues/21755 */display: inline-block !important;position: relative;}#sk-container-id-2 div.sk-text-repr-fallback {display: none;}</style><div id=\"sk-container-id-2\" class=\"sk-top-container\"><div class=\"sk-text-repr-fallback\"><pre>Pipeline(steps=[(&#x27;scaler&#x27;, StandardScaler()),\n",
       "                (&#x27;polynomial&#x27;,\n",
       "                 PolynomialFeatures(degree=3, include_bias=False)),\n",
       "                (&#x27;mode&#x27;, LinearRegression())])</pre><b>In a Jupyter environment, please rerun this cell to show the HTML representation or trust the notebook. <br />On GitHub, the HTML representation is unable to render, please try loading this page with nbviewer.org.</b></div><div class=\"sk-container\" hidden><div class=\"sk-item sk-dashed-wrapped\"><div class=\"sk-label-container\"><div class=\"sk-label sk-toggleable\"><input class=\"sk-toggleable__control sk-hidden--visually\" id=\"sk-estimator-id-4\" type=\"checkbox\" ><label for=\"sk-estimator-id-4\" class=\"sk-toggleable__label sk-toggleable__label-arrow\">Pipeline</label><div class=\"sk-toggleable__content\"><pre>Pipeline(steps=[(&#x27;scaler&#x27;, StandardScaler()),\n",
       "                (&#x27;polynomial&#x27;,\n",
       "                 PolynomialFeatures(degree=3, include_bias=False)),\n",
       "                (&#x27;mode&#x27;, LinearRegression())])</pre></div></div></div><div class=\"sk-serial\"><div class=\"sk-item\"><div class=\"sk-estimator sk-toggleable\"><input class=\"sk-toggleable__control sk-hidden--visually\" id=\"sk-estimator-id-5\" type=\"checkbox\" ><label for=\"sk-estimator-id-5\" class=\"sk-toggleable__label sk-toggleable__label-arrow\">StandardScaler</label><div class=\"sk-toggleable__content\"><pre>StandardScaler()</pre></div></div></div><div class=\"sk-item\"><div class=\"sk-estimator sk-toggleable\"><input class=\"sk-toggleable__control sk-hidden--visually\" id=\"sk-estimator-id-6\" type=\"checkbox\" ><label for=\"sk-estimator-id-6\" class=\"sk-toggleable__label sk-toggleable__label-arrow\">PolynomialFeatures</label><div class=\"sk-toggleable__content\"><pre>PolynomialFeatures(degree=3, include_bias=False)</pre></div></div></div><div class=\"sk-item\"><div class=\"sk-estimator sk-toggleable\"><input class=\"sk-toggleable__control sk-hidden--visually\" id=\"sk-estimator-id-7\" type=\"checkbox\" ><label for=\"sk-estimator-id-7\" class=\"sk-toggleable__label sk-toggleable__label-arrow\">LinearRegression</label><div class=\"sk-toggleable__content\"><pre>LinearRegression()</pre></div></div></div></div></div></div></div>"
      ],
      "text/plain": [
       "Pipeline(steps=[('scaler', StandardScaler()),\n",
       "                ('polynomial',\n",
       "                 PolynomialFeatures(degree=3, include_bias=False)),\n",
       "                ('mode', LinearRegression())])"
      ]
     },
     "execution_count": 26,
     "metadata": {},
     "output_type": "execute_result"
    }
   ],
   "source": [
    "Input = [\n",
    "    (\"scaler\", StandardScaler()),\n",
    "    (\"polynomial\", PolynomialFeatures(degree = 3, include_bias = False)),\n",
    "    (\"mode\", LinearRegression())\n",
    "]\n",
    "pipe = Pipeline(Input)\n",
    "pipe.fit(X_train, y_train)"
   ]
  },
  {
   "cell_type": "code",
   "execution_count": 27,
   "id": "9703967f",
   "metadata": {
    "execution": {
     "iopub.execute_input": "2023-06-15T14:35:32.917987Z",
     "iopub.status.busy": "2023-06-15T14:35:32.917649Z",
     "iopub.status.idle": "2023-06-15T14:35:32.927180Z",
     "shell.execute_reply": "2023-06-15T14:35:32.926532Z"
    },
    "papermill": {
     "duration": 0.027534,
     "end_time": "2023-06-15T14:35:32.928859",
     "exception": false,
     "start_time": "2023-06-15T14:35:32.901325",
     "status": "completed"
    },
    "tags": []
   },
   "outputs": [],
   "source": [
    "y_pipe = pipe.predict(X_test)\n",
    "pm_score = pipe.score(X_test, y_test)"
   ]
  },
  {
   "cell_type": "markdown",
   "id": "fc931e0e",
   "metadata": {
    "papermill": {
     "duration": 0.014878,
     "end_time": "2023-06-15T14:35:32.959203",
     "exception": false,
     "start_time": "2023-06-15T14:35:32.944325",
     "status": "completed"
    },
    "tags": []
   },
   "source": [
    "## Polynomaial with Ridge"
   ]
  },
  {
   "cell_type": "code",
   "execution_count": 28,
   "id": "bee83165",
   "metadata": {
    "execution": {
     "iopub.execute_input": "2023-06-15T14:35:32.991181Z",
     "iopub.status.busy": "2023-06-15T14:35:32.990636Z",
     "iopub.status.idle": "2023-06-15T14:35:33.005630Z",
     "shell.execute_reply": "2023-06-15T14:35:33.004987Z"
    },
    "papermill": {
     "duration": 0.033069,
     "end_time": "2023-06-15T14:35:33.007396",
     "exception": false,
     "start_time": "2023-06-15T14:35:32.974327",
     "status": "completed"
    },
    "tags": []
   },
   "outputs": [],
   "source": [
    "#Polynomial\n",
    "poly = PolynomialFeatures(degree = 3)\n",
    "X_train_poly = poly.fit_transform(X_train)\n",
    "X_test_poly = poly.fit_transform(X_test)\n",
    "\n",
    "#Ridge\n",
    "ridge = Ridge(alpha = 0.1) #Regularization\n",
    "ridge.fit(X_train_poly, y_train) #Fitting the model to both the polynomial features and target variable\n",
    "\n",
    "pm_r_score = ridge.score(X_test_poly, y_test)"
   ]
  },
  {
   "cell_type": "markdown",
   "id": "5c029dc1",
   "metadata": {
    "papermill": {
     "duration": 0.017017,
     "end_time": "2023-06-15T14:35:33.039948",
     "exception": false,
     "start_time": "2023-06-15T14:35:33.022931",
     "status": "completed"
    },
    "tags": []
   },
   "source": [
    "## RandomForestRegressor"
   ]
  },
  {
   "cell_type": "code",
   "execution_count": 29,
   "id": "46c3c43e",
   "metadata": {
    "execution": {
     "iopub.execute_input": "2023-06-15T14:35:33.073517Z",
     "iopub.status.busy": "2023-06-15T14:35:33.072978Z",
     "iopub.status.idle": "2023-06-15T14:35:33.200083Z",
     "shell.execute_reply": "2023-06-15T14:35:33.199313Z"
    },
    "papermill": {
     "duration": 0.145711,
     "end_time": "2023-06-15T14:35:33.201791",
     "exception": false,
     "start_time": "2023-06-15T14:35:33.056080",
     "status": "completed"
    },
    "tags": []
   },
   "outputs": [
    {
     "data": {
      "text/html": [
       "<style>#sk-container-id-3 {color: black;background-color: white;}#sk-container-id-3 pre{padding: 0;}#sk-container-id-3 div.sk-toggleable {background-color: white;}#sk-container-id-3 label.sk-toggleable__label {cursor: pointer;display: block;width: 100%;margin-bottom: 0;padding: 0.3em;box-sizing: border-box;text-align: center;}#sk-container-id-3 label.sk-toggleable__label-arrow:before {content: \"▸\";float: left;margin-right: 0.25em;color: #696969;}#sk-container-id-3 label.sk-toggleable__label-arrow:hover:before {color: black;}#sk-container-id-3 div.sk-estimator:hover label.sk-toggleable__label-arrow:before {color: black;}#sk-container-id-3 div.sk-toggleable__content {max-height: 0;max-width: 0;overflow: hidden;text-align: left;background-color: #f0f8ff;}#sk-container-id-3 div.sk-toggleable__content pre {margin: 0.2em;color: black;border-radius: 0.25em;background-color: #f0f8ff;}#sk-container-id-3 input.sk-toggleable__control:checked~div.sk-toggleable__content {max-height: 200px;max-width: 100%;overflow: auto;}#sk-container-id-3 input.sk-toggleable__control:checked~label.sk-toggleable__label-arrow:before {content: \"▾\";}#sk-container-id-3 div.sk-estimator input.sk-toggleable__control:checked~label.sk-toggleable__label {background-color: #d4ebff;}#sk-container-id-3 div.sk-label input.sk-toggleable__control:checked~label.sk-toggleable__label {background-color: #d4ebff;}#sk-container-id-3 input.sk-hidden--visually {border: 0;clip: rect(1px 1px 1px 1px);clip: rect(1px, 1px, 1px, 1px);height: 1px;margin: -1px;overflow: hidden;padding: 0;position: absolute;width: 1px;}#sk-container-id-3 div.sk-estimator {font-family: monospace;background-color: #f0f8ff;border: 1px dotted black;border-radius: 0.25em;box-sizing: border-box;margin-bottom: 0.5em;}#sk-container-id-3 div.sk-estimator:hover {background-color: #d4ebff;}#sk-container-id-3 div.sk-parallel-item::after {content: \"\";width: 100%;border-bottom: 1px solid gray;flex-grow: 1;}#sk-container-id-3 div.sk-label:hover label.sk-toggleable__label {background-color: #d4ebff;}#sk-container-id-3 div.sk-serial::before {content: \"\";position: absolute;border-left: 1px solid gray;box-sizing: border-box;top: 0;bottom: 0;left: 50%;z-index: 0;}#sk-container-id-3 div.sk-serial {display: flex;flex-direction: column;align-items: center;background-color: white;padding-right: 0.2em;padding-left: 0.2em;position: relative;}#sk-container-id-3 div.sk-item {position: relative;z-index: 1;}#sk-container-id-3 div.sk-parallel {display: flex;align-items: stretch;justify-content: center;background-color: white;position: relative;}#sk-container-id-3 div.sk-item::before, #sk-container-id-3 div.sk-parallel-item::before {content: \"\";position: absolute;border-left: 1px solid gray;box-sizing: border-box;top: 0;bottom: 0;left: 50%;z-index: -1;}#sk-container-id-3 div.sk-parallel-item {display: flex;flex-direction: column;z-index: 1;position: relative;background-color: white;}#sk-container-id-3 div.sk-parallel-item:first-child::after {align-self: flex-end;width: 50%;}#sk-container-id-3 div.sk-parallel-item:last-child::after {align-self: flex-start;width: 50%;}#sk-container-id-3 div.sk-parallel-item:only-child::after {width: 0;}#sk-container-id-3 div.sk-dashed-wrapped {border: 1px dashed gray;margin: 0 0.4em 0.5em 0.4em;box-sizing: border-box;padding-bottom: 0.4em;background-color: white;}#sk-container-id-3 div.sk-label label {font-family: monospace;font-weight: bold;display: inline-block;line-height: 1.2em;}#sk-container-id-3 div.sk-label-container {text-align: center;}#sk-container-id-3 div.sk-container {/* jupyter's `normalize.less` sets `[hidden] { display: none; }` but bootstrap.min.css set `[hidden] { display: none !important; }` so we also need the `!important` here to be able to override the default hidden behavior on the sphinx rendered scikit-learn.org. See: https://github.com/scikit-learn/scikit-learn/issues/21755 */display: inline-block !important;position: relative;}#sk-container-id-3 div.sk-text-repr-fallback {display: none;}</style><div id=\"sk-container-id-3\" class=\"sk-top-container\"><div class=\"sk-text-repr-fallback\"><pre>Pipeline(steps=[(&#x27;scaler&#x27;, StandardScaler()),\n",
       "                (&#x27;mode&#x27;, RandomForestRegressor())])</pre><b>In a Jupyter environment, please rerun this cell to show the HTML representation or trust the notebook. <br />On GitHub, the HTML representation is unable to render, please try loading this page with nbviewer.org.</b></div><div class=\"sk-container\" hidden><div class=\"sk-item sk-dashed-wrapped\"><div class=\"sk-label-container\"><div class=\"sk-label sk-toggleable\"><input class=\"sk-toggleable__control sk-hidden--visually\" id=\"sk-estimator-id-8\" type=\"checkbox\" ><label for=\"sk-estimator-id-8\" class=\"sk-toggleable__label sk-toggleable__label-arrow\">Pipeline</label><div class=\"sk-toggleable__content\"><pre>Pipeline(steps=[(&#x27;scaler&#x27;, StandardScaler()),\n",
       "                (&#x27;mode&#x27;, RandomForestRegressor())])</pre></div></div></div><div class=\"sk-serial\"><div class=\"sk-item\"><div class=\"sk-estimator sk-toggleable\"><input class=\"sk-toggleable__control sk-hidden--visually\" id=\"sk-estimator-id-9\" type=\"checkbox\" ><label for=\"sk-estimator-id-9\" class=\"sk-toggleable__label sk-toggleable__label-arrow\">StandardScaler</label><div class=\"sk-toggleable__content\"><pre>StandardScaler()</pre></div></div></div><div class=\"sk-item\"><div class=\"sk-estimator sk-toggleable\"><input class=\"sk-toggleable__control sk-hidden--visually\" id=\"sk-estimator-id-10\" type=\"checkbox\" ><label for=\"sk-estimator-id-10\" class=\"sk-toggleable__label sk-toggleable__label-arrow\">RandomForestRegressor</label><div class=\"sk-toggleable__content\"><pre>RandomForestRegressor()</pre></div></div></div></div></div></div></div>"
      ],
      "text/plain": [
       "Pipeline(steps=[('scaler', StandardScaler()),\n",
       "                ('mode', RandomForestRegressor())])"
      ]
     },
     "execution_count": 29,
     "metadata": {},
     "output_type": "execute_result"
    }
   ],
   "source": [
    "Input = [\n",
    "    (\"scaler\", StandardScaler()),\n",
    "    (\"mode\", RandomForestRegressor())\n",
    "]\n",
    "pipe = Pipeline(Input)\n",
    "pipe.fit(X_train, y_train)"
   ]
  },
  {
   "cell_type": "code",
   "execution_count": 30,
   "id": "334ddab8",
   "metadata": {
    "execution": {
     "iopub.execute_input": "2023-06-15T14:35:33.234437Z",
     "iopub.status.busy": "2023-06-15T14:35:33.233951Z",
     "iopub.status.idle": "2023-06-15T14:35:33.257016Z",
     "shell.execute_reply": "2023-06-15T14:35:33.256198Z"
    },
    "papermill": {
     "duration": 0.041668,
     "end_time": "2023-06-15T14:35:33.259039",
     "exception": false,
     "start_time": "2023-06-15T14:35:33.217371",
     "status": "completed"
    },
    "tags": []
   },
   "outputs": [],
   "source": [
    "rf_predictions = pipe.predict(X_test)\n",
    "rf_score = pipe.score(X_test, y_test)"
   ]
  },
  {
   "cell_type": "markdown",
   "id": "b2c8fa0d",
   "metadata": {
    "papermill": {
     "duration": 0.015301,
     "end_time": "2023-06-15T14:35:33.290087",
     "exception": false,
     "start_time": "2023-06-15T14:35:33.274786",
     "status": "completed"
    },
    "tags": []
   },
   "source": [
    "## DecisionTreeRegressor"
   ]
  },
  {
   "cell_type": "code",
   "execution_count": 31,
   "id": "a0c6f283",
   "metadata": {
    "execution": {
     "iopub.execute_input": "2023-06-15T14:35:33.323238Z",
     "iopub.status.busy": "2023-06-15T14:35:33.322221Z",
     "iopub.status.idle": "2023-06-15T14:35:33.335535Z",
     "shell.execute_reply": "2023-06-15T14:35:33.334718Z"
    },
    "papermill": {
     "duration": 0.031744,
     "end_time": "2023-06-15T14:35:33.337448",
     "exception": false,
     "start_time": "2023-06-15T14:35:33.305704",
     "status": "completed"
    },
    "tags": []
   },
   "outputs": [
    {
     "data": {
      "text/html": [
       "<style>#sk-container-id-4 {color: black;background-color: white;}#sk-container-id-4 pre{padding: 0;}#sk-container-id-4 div.sk-toggleable {background-color: white;}#sk-container-id-4 label.sk-toggleable__label {cursor: pointer;display: block;width: 100%;margin-bottom: 0;padding: 0.3em;box-sizing: border-box;text-align: center;}#sk-container-id-4 label.sk-toggleable__label-arrow:before {content: \"▸\";float: left;margin-right: 0.25em;color: #696969;}#sk-container-id-4 label.sk-toggleable__label-arrow:hover:before {color: black;}#sk-container-id-4 div.sk-estimator:hover label.sk-toggleable__label-arrow:before {color: black;}#sk-container-id-4 div.sk-toggleable__content {max-height: 0;max-width: 0;overflow: hidden;text-align: left;background-color: #f0f8ff;}#sk-container-id-4 div.sk-toggleable__content pre {margin: 0.2em;color: black;border-radius: 0.25em;background-color: #f0f8ff;}#sk-container-id-4 input.sk-toggleable__control:checked~div.sk-toggleable__content {max-height: 200px;max-width: 100%;overflow: auto;}#sk-container-id-4 input.sk-toggleable__control:checked~label.sk-toggleable__label-arrow:before {content: \"▾\";}#sk-container-id-4 div.sk-estimator input.sk-toggleable__control:checked~label.sk-toggleable__label {background-color: #d4ebff;}#sk-container-id-4 div.sk-label input.sk-toggleable__control:checked~label.sk-toggleable__label {background-color: #d4ebff;}#sk-container-id-4 input.sk-hidden--visually {border: 0;clip: rect(1px 1px 1px 1px);clip: rect(1px, 1px, 1px, 1px);height: 1px;margin: -1px;overflow: hidden;padding: 0;position: absolute;width: 1px;}#sk-container-id-4 div.sk-estimator {font-family: monospace;background-color: #f0f8ff;border: 1px dotted black;border-radius: 0.25em;box-sizing: border-box;margin-bottom: 0.5em;}#sk-container-id-4 div.sk-estimator:hover {background-color: #d4ebff;}#sk-container-id-4 div.sk-parallel-item::after {content: \"\";width: 100%;border-bottom: 1px solid gray;flex-grow: 1;}#sk-container-id-4 div.sk-label:hover label.sk-toggleable__label {background-color: #d4ebff;}#sk-container-id-4 div.sk-serial::before {content: \"\";position: absolute;border-left: 1px solid gray;box-sizing: border-box;top: 0;bottom: 0;left: 50%;z-index: 0;}#sk-container-id-4 div.sk-serial {display: flex;flex-direction: column;align-items: center;background-color: white;padding-right: 0.2em;padding-left: 0.2em;position: relative;}#sk-container-id-4 div.sk-item {position: relative;z-index: 1;}#sk-container-id-4 div.sk-parallel {display: flex;align-items: stretch;justify-content: center;background-color: white;position: relative;}#sk-container-id-4 div.sk-item::before, #sk-container-id-4 div.sk-parallel-item::before {content: \"\";position: absolute;border-left: 1px solid gray;box-sizing: border-box;top: 0;bottom: 0;left: 50%;z-index: -1;}#sk-container-id-4 div.sk-parallel-item {display: flex;flex-direction: column;z-index: 1;position: relative;background-color: white;}#sk-container-id-4 div.sk-parallel-item:first-child::after {align-self: flex-end;width: 50%;}#sk-container-id-4 div.sk-parallel-item:last-child::after {align-self: flex-start;width: 50%;}#sk-container-id-4 div.sk-parallel-item:only-child::after {width: 0;}#sk-container-id-4 div.sk-dashed-wrapped {border: 1px dashed gray;margin: 0 0.4em 0.5em 0.4em;box-sizing: border-box;padding-bottom: 0.4em;background-color: white;}#sk-container-id-4 div.sk-label label {font-family: monospace;font-weight: bold;display: inline-block;line-height: 1.2em;}#sk-container-id-4 div.sk-label-container {text-align: center;}#sk-container-id-4 div.sk-container {/* jupyter's `normalize.less` sets `[hidden] { display: none; }` but bootstrap.min.css set `[hidden] { display: none !important; }` so we also need the `!important` here to be able to override the default hidden behavior on the sphinx rendered scikit-learn.org. See: https://github.com/scikit-learn/scikit-learn/issues/21755 */display: inline-block !important;position: relative;}#sk-container-id-4 div.sk-text-repr-fallback {display: none;}</style><div id=\"sk-container-id-4\" class=\"sk-top-container\"><div class=\"sk-text-repr-fallback\"><pre>Pipeline(steps=[(&#x27;scaler&#x27;, StandardScaler()),\n",
       "                (&#x27;mode&#x27;, DecisionTreeRegressor())])</pre><b>In a Jupyter environment, please rerun this cell to show the HTML representation or trust the notebook. <br />On GitHub, the HTML representation is unable to render, please try loading this page with nbviewer.org.</b></div><div class=\"sk-container\" hidden><div class=\"sk-item sk-dashed-wrapped\"><div class=\"sk-label-container\"><div class=\"sk-label sk-toggleable\"><input class=\"sk-toggleable__control sk-hidden--visually\" id=\"sk-estimator-id-11\" type=\"checkbox\" ><label for=\"sk-estimator-id-11\" class=\"sk-toggleable__label sk-toggleable__label-arrow\">Pipeline</label><div class=\"sk-toggleable__content\"><pre>Pipeline(steps=[(&#x27;scaler&#x27;, StandardScaler()),\n",
       "                (&#x27;mode&#x27;, DecisionTreeRegressor())])</pre></div></div></div><div class=\"sk-serial\"><div class=\"sk-item\"><div class=\"sk-estimator sk-toggleable\"><input class=\"sk-toggleable__control sk-hidden--visually\" id=\"sk-estimator-id-12\" type=\"checkbox\" ><label for=\"sk-estimator-id-12\" class=\"sk-toggleable__label sk-toggleable__label-arrow\">StandardScaler</label><div class=\"sk-toggleable__content\"><pre>StandardScaler()</pre></div></div></div><div class=\"sk-item\"><div class=\"sk-estimator sk-toggleable\"><input class=\"sk-toggleable__control sk-hidden--visually\" id=\"sk-estimator-id-13\" type=\"checkbox\" ><label for=\"sk-estimator-id-13\" class=\"sk-toggleable__label sk-toggleable__label-arrow\">DecisionTreeRegressor</label><div class=\"sk-toggleable__content\"><pre>DecisionTreeRegressor()</pre></div></div></div></div></div></div></div>"
      ],
      "text/plain": [
       "Pipeline(steps=[('scaler', StandardScaler()),\n",
       "                ('mode', DecisionTreeRegressor())])"
      ]
     },
     "execution_count": 31,
     "metadata": {},
     "output_type": "execute_result"
    }
   ],
   "source": [
    "Input = [\n",
    "    (\"scaler\", StandardScaler()),\n",
    "    (\"mode\", DecisionTreeRegressor())\n",
    "]\n",
    "pipe = Pipeline(Input)\n",
    "pipe.fit(X_train, y_train)"
   ]
  },
  {
   "cell_type": "code",
   "execution_count": 32,
   "id": "04aa6d25",
   "metadata": {
    "execution": {
     "iopub.execute_input": "2023-06-15T14:35:33.372659Z",
     "iopub.status.busy": "2023-06-15T14:35:33.371695Z",
     "iopub.status.idle": "2023-06-15T14:35:33.380726Z",
     "shell.execute_reply": "2023-06-15T14:35:33.379753Z"
    },
    "papermill": {
     "duration": 0.028341,
     "end_time": "2023-06-15T14:35:33.382936",
     "exception": false,
     "start_time": "2023-06-15T14:35:33.354595",
     "status": "completed"
    },
    "tags": []
   },
   "outputs": [],
   "source": [
    "dtr_pipe = pipe.predict(X_test)\n",
    "dtr_score = pipe.score(X_test, y_test)"
   ]
  },
  {
   "cell_type": "markdown",
   "id": "b7089553",
   "metadata": {
    "papermill": {
     "duration": 0.016267,
     "end_time": "2023-06-15T14:35:33.416190",
     "exception": false,
     "start_time": "2023-06-15T14:35:33.399923",
     "status": "completed"
    },
    "tags": []
   },
   "source": [
    "## KNN"
   ]
  },
  {
   "cell_type": "code",
   "execution_count": 33,
   "id": "9b36d870",
   "metadata": {
    "execution": {
     "iopub.execute_input": "2023-06-15T14:35:33.450153Z",
     "iopub.status.busy": "2023-06-15T14:35:33.449844Z",
     "iopub.status.idle": "2023-06-15T14:35:33.463702Z",
     "shell.execute_reply": "2023-06-15T14:35:33.462827Z"
    },
    "papermill": {
     "duration": 0.033066,
     "end_time": "2023-06-15T14:35:33.465717",
     "exception": false,
     "start_time": "2023-06-15T14:35:33.432651",
     "status": "completed"
    },
    "tags": []
   },
   "outputs": [
    {
     "data": {
      "text/html": [
       "<style>#sk-container-id-5 {color: black;background-color: white;}#sk-container-id-5 pre{padding: 0;}#sk-container-id-5 div.sk-toggleable {background-color: white;}#sk-container-id-5 label.sk-toggleable__label {cursor: pointer;display: block;width: 100%;margin-bottom: 0;padding: 0.3em;box-sizing: border-box;text-align: center;}#sk-container-id-5 label.sk-toggleable__label-arrow:before {content: \"▸\";float: left;margin-right: 0.25em;color: #696969;}#sk-container-id-5 label.sk-toggleable__label-arrow:hover:before {color: black;}#sk-container-id-5 div.sk-estimator:hover label.sk-toggleable__label-arrow:before {color: black;}#sk-container-id-5 div.sk-toggleable__content {max-height: 0;max-width: 0;overflow: hidden;text-align: left;background-color: #f0f8ff;}#sk-container-id-5 div.sk-toggleable__content pre {margin: 0.2em;color: black;border-radius: 0.25em;background-color: #f0f8ff;}#sk-container-id-5 input.sk-toggleable__control:checked~div.sk-toggleable__content {max-height: 200px;max-width: 100%;overflow: auto;}#sk-container-id-5 input.sk-toggleable__control:checked~label.sk-toggleable__label-arrow:before {content: \"▾\";}#sk-container-id-5 div.sk-estimator input.sk-toggleable__control:checked~label.sk-toggleable__label {background-color: #d4ebff;}#sk-container-id-5 div.sk-label input.sk-toggleable__control:checked~label.sk-toggleable__label {background-color: #d4ebff;}#sk-container-id-5 input.sk-hidden--visually {border: 0;clip: rect(1px 1px 1px 1px);clip: rect(1px, 1px, 1px, 1px);height: 1px;margin: -1px;overflow: hidden;padding: 0;position: absolute;width: 1px;}#sk-container-id-5 div.sk-estimator {font-family: monospace;background-color: #f0f8ff;border: 1px dotted black;border-radius: 0.25em;box-sizing: border-box;margin-bottom: 0.5em;}#sk-container-id-5 div.sk-estimator:hover {background-color: #d4ebff;}#sk-container-id-5 div.sk-parallel-item::after {content: \"\";width: 100%;border-bottom: 1px solid gray;flex-grow: 1;}#sk-container-id-5 div.sk-label:hover label.sk-toggleable__label {background-color: #d4ebff;}#sk-container-id-5 div.sk-serial::before {content: \"\";position: absolute;border-left: 1px solid gray;box-sizing: border-box;top: 0;bottom: 0;left: 50%;z-index: 0;}#sk-container-id-5 div.sk-serial {display: flex;flex-direction: column;align-items: center;background-color: white;padding-right: 0.2em;padding-left: 0.2em;position: relative;}#sk-container-id-5 div.sk-item {position: relative;z-index: 1;}#sk-container-id-5 div.sk-parallel {display: flex;align-items: stretch;justify-content: center;background-color: white;position: relative;}#sk-container-id-5 div.sk-item::before, #sk-container-id-5 div.sk-parallel-item::before {content: \"\";position: absolute;border-left: 1px solid gray;box-sizing: border-box;top: 0;bottom: 0;left: 50%;z-index: -1;}#sk-container-id-5 div.sk-parallel-item {display: flex;flex-direction: column;z-index: 1;position: relative;background-color: white;}#sk-container-id-5 div.sk-parallel-item:first-child::after {align-self: flex-end;width: 50%;}#sk-container-id-5 div.sk-parallel-item:last-child::after {align-self: flex-start;width: 50%;}#sk-container-id-5 div.sk-parallel-item:only-child::after {width: 0;}#sk-container-id-5 div.sk-dashed-wrapped {border: 1px dashed gray;margin: 0 0.4em 0.5em 0.4em;box-sizing: border-box;padding-bottom: 0.4em;background-color: white;}#sk-container-id-5 div.sk-label label {font-family: monospace;font-weight: bold;display: inline-block;line-height: 1.2em;}#sk-container-id-5 div.sk-label-container {text-align: center;}#sk-container-id-5 div.sk-container {/* jupyter's `normalize.less` sets `[hidden] { display: none; }` but bootstrap.min.css set `[hidden] { display: none !important; }` so we also need the `!important` here to be able to override the default hidden behavior on the sphinx rendered scikit-learn.org. See: https://github.com/scikit-learn/scikit-learn/issues/21755 */display: inline-block !important;position: relative;}#sk-container-id-5 div.sk-text-repr-fallback {display: none;}</style><div id=\"sk-container-id-5\" class=\"sk-top-container\"><div class=\"sk-text-repr-fallback\"><pre>Pipeline(steps=[(&#x27;scaler&#x27;, StandardScaler()),\n",
       "                (&#x27;mode&#x27;, KNeighborsRegressor(n_neighbors=4))])</pre><b>In a Jupyter environment, please rerun this cell to show the HTML representation or trust the notebook. <br />On GitHub, the HTML representation is unable to render, please try loading this page with nbviewer.org.</b></div><div class=\"sk-container\" hidden><div class=\"sk-item sk-dashed-wrapped\"><div class=\"sk-label-container\"><div class=\"sk-label sk-toggleable\"><input class=\"sk-toggleable__control sk-hidden--visually\" id=\"sk-estimator-id-14\" type=\"checkbox\" ><label for=\"sk-estimator-id-14\" class=\"sk-toggleable__label sk-toggleable__label-arrow\">Pipeline</label><div class=\"sk-toggleable__content\"><pre>Pipeline(steps=[(&#x27;scaler&#x27;, StandardScaler()),\n",
       "                (&#x27;mode&#x27;, KNeighborsRegressor(n_neighbors=4))])</pre></div></div></div><div class=\"sk-serial\"><div class=\"sk-item\"><div class=\"sk-estimator sk-toggleable\"><input class=\"sk-toggleable__control sk-hidden--visually\" id=\"sk-estimator-id-15\" type=\"checkbox\" ><label for=\"sk-estimator-id-15\" class=\"sk-toggleable__label sk-toggleable__label-arrow\">StandardScaler</label><div class=\"sk-toggleable__content\"><pre>StandardScaler()</pre></div></div></div><div class=\"sk-item\"><div class=\"sk-estimator sk-toggleable\"><input class=\"sk-toggleable__control sk-hidden--visually\" id=\"sk-estimator-id-16\" type=\"checkbox\" ><label for=\"sk-estimator-id-16\" class=\"sk-toggleable__label sk-toggleable__label-arrow\">KNeighborsRegressor</label><div class=\"sk-toggleable__content\"><pre>KNeighborsRegressor(n_neighbors=4)</pre></div></div></div></div></div></div></div>"
      ],
      "text/plain": [
       "Pipeline(steps=[('scaler', StandardScaler()),\n",
       "                ('mode', KNeighborsRegressor(n_neighbors=4))])"
      ]
     },
     "execution_count": 33,
     "metadata": {},
     "output_type": "execute_result"
    }
   ],
   "source": [
    "Input = [\n",
    "    (\"scaler\", StandardScaler()),\n",
    "    (\"mode\", KNeighborsRegressor(n_neighbors = 4))\n",
    "]\n",
    "pipe = Pipeline(Input)\n",
    "pipe.fit(X_train, y_train)"
   ]
  },
  {
   "cell_type": "code",
   "execution_count": 34,
   "id": "965e5502",
   "metadata": {
    "execution": {
     "iopub.execute_input": "2023-06-15T14:35:33.500620Z",
     "iopub.status.busy": "2023-06-15T14:35:33.498879Z",
     "iopub.status.idle": "2023-06-15T14:35:33.508509Z",
     "shell.execute_reply": "2023-06-15T14:35:33.507746Z"
    },
    "papermill": {
     "duration": 0.028455,
     "end_time": "2023-06-15T14:35:33.510351",
     "exception": false,
     "start_time": "2023-06-15T14:35:33.481896",
     "status": "completed"
    },
    "tags": []
   },
   "outputs": [],
   "source": [
    "knn_pipe = pipe.predict(X_test)\n",
    "knn_score = pipe.score(X_test, y_test)"
   ]
  },
  {
   "cell_type": "markdown",
   "id": "dfb4d200",
   "metadata": {
    "papermill": {
     "duration": 0.01639,
     "end_time": "2023-06-15T14:35:33.543478",
     "exception": false,
     "start_time": "2023-06-15T14:35:33.527088",
     "status": "completed"
    },
    "tags": []
   },
   "source": [
    "# Model Evaluations"
   ]
  },
  {
   "cell_type": "code",
   "execution_count": 35,
   "id": "8c40bd9f",
   "metadata": {
    "execution": {
     "iopub.execute_input": "2023-06-15T14:35:33.579144Z",
     "iopub.status.busy": "2023-06-15T14:35:33.577968Z",
     "iopub.status.idle": "2023-06-15T14:35:33.589240Z",
     "shell.execute_reply": "2023-06-15T14:35:33.588365Z"
    },
    "papermill": {
     "duration": 0.030527,
     "end_time": "2023-06-15T14:35:33.590937",
     "exception": false,
     "start_time": "2023-06-15T14:35:33.560410",
     "status": "completed"
    },
    "tags": []
   },
   "outputs": [
    {
     "data": {
      "text/html": [
       "<div>\n",
       "<style scoped>\n",
       "    .dataframe tbody tr th:only-of-type {\n",
       "        vertical-align: middle;\n",
       "    }\n",
       "\n",
       "    .dataframe tbody tr th {\n",
       "        vertical-align: top;\n",
       "    }\n",
       "\n",
       "    .dataframe thead th {\n",
       "        text-align: right;\n",
       "    }\n",
       "</style>\n",
       "<table border=\"1\" class=\"dataframe\">\n",
       "  <thead>\n",
       "    <tr style=\"text-align: right;\">\n",
       "      <th></th>\n",
       "      <th>Accuracy</th>\n",
       "    </tr>\n",
       "  </thead>\n",
       "  <tbody>\n",
       "    <tr>\n",
       "      <th>Multi_Linear</th>\n",
       "      <td>0.963401</td>\n",
       "    </tr>\n",
       "    <tr>\n",
       "      <th>Polynomial</th>\n",
       "      <td>0.964152</td>\n",
       "    </tr>\n",
       "    <tr>\n",
       "      <th>PolynomailRidge</th>\n",
       "      <td>0.970590</td>\n",
       "    </tr>\n",
       "    <tr>\n",
       "      <th>RandomForest</th>\n",
       "      <td>0.969667</td>\n",
       "    </tr>\n",
       "    <tr>\n",
       "      <th>DecisionTree</th>\n",
       "      <td>0.958380</td>\n",
       "    </tr>\n",
       "    <tr>\n",
       "      <th>KNeighbors</th>\n",
       "      <td>0.965790</td>\n",
       "    </tr>\n",
       "  </tbody>\n",
       "</table>\n",
       "</div>"
      ],
      "text/plain": [
       "                 Accuracy\n",
       "Multi_Linear     0.963401\n",
       "Polynomial       0.964152\n",
       "PolynomailRidge  0.970590\n",
       "RandomForest     0.969667\n",
       "DecisionTree     0.958380\n",
       "KNeighbors       0.965790"
      ]
     },
     "execution_count": 35,
     "metadata": {},
     "output_type": "execute_result"
    }
   ],
   "source": [
    "#We will be using the rsquared scores to evaluate how well our models were good at predicting the Petal Length.\n",
    "\n",
    "r_scores = pd.DataFrame({\n",
    "    \"Multi_Linear\": ml_score,\n",
    "    \"Polynomial\": pm_score,\n",
    "    \"PolynomailRidge\": pm_r_score,\n",
    "    \"RandomForest\": rf_score,\n",
    "    \"DecisionTree\": dtr_score,\n",
    "    \"KNeighbors\": knn_score\n",
    "}, index = [\"Accuracy\"])\n",
    "r_scores.transpose()"
   ]
  },
  {
   "cell_type": "code",
   "execution_count": 36,
   "id": "ce9379a5",
   "metadata": {
    "execution": {
     "iopub.execute_input": "2023-06-15T14:35:33.626461Z",
     "iopub.status.busy": "2023-06-15T14:35:33.625600Z",
     "iopub.status.idle": "2023-06-15T14:35:33.630857Z",
     "shell.execute_reply": "2023-06-15T14:35:33.630209Z"
    },
    "papermill": {
     "duration": 0.024224,
     "end_time": "2023-06-15T14:35:33.632375",
     "exception": false,
     "start_time": "2023-06-15T14:35:33.608151",
     "status": "completed"
    },
    "tags": []
   },
   "outputs": [],
   "source": [
    "submission_file = pd.DataFrame({\n",
    "    \"SepalLength\": X_test[\"SepalLengthCm\"],\n",
    "    \"SepalWidth\": X_test[\"SepalWidthCm\"],\n",
    "    \"PetalLengthCm\": rf_predictions,\n",
    "    \"Species\": species_2.columns[X_test.iloc[:, 0].values]\n",
    "})"
   ]
  },
  {
   "cell_type": "code",
   "execution_count": 37,
   "id": "a57b100e",
   "metadata": {
    "execution": {
     "iopub.execute_input": "2023-06-15T14:35:33.665892Z",
     "iopub.status.busy": "2023-06-15T14:35:33.665299Z",
     "iopub.status.idle": "2023-06-15T14:35:33.673571Z",
     "shell.execute_reply": "2023-06-15T14:35:33.672865Z"
    },
    "papermill": {
     "duration": 0.026618,
     "end_time": "2023-06-15T14:35:33.675173",
     "exception": false,
     "start_time": "2023-06-15T14:35:33.648555",
     "status": "completed"
    },
    "tags": []
   },
   "outputs": [],
   "source": [
    "submission_file.to_csv(\"submission.csv\")"
   ]
  },
  {
   "cell_type": "code",
   "execution_count": 38,
   "id": "3522cfdb",
   "metadata": {
    "execution": {
     "iopub.execute_input": "2023-06-15T14:35:33.709449Z",
     "iopub.status.busy": "2023-06-15T14:35:33.708935Z",
     "iopub.status.idle": "2023-06-15T14:35:33.722860Z",
     "shell.execute_reply": "2023-06-15T14:35:33.722326Z"
    },
    "papermill": {
     "duration": 0.032573,
     "end_time": "2023-06-15T14:35:33.724518",
     "exception": false,
     "start_time": "2023-06-15T14:35:33.691945",
     "status": "completed"
    },
    "tags": []
   },
   "outputs": [
    {
     "data": {
      "text/html": [
       "<div>\n",
       "<style scoped>\n",
       "    .dataframe tbody tr th:only-of-type {\n",
       "        vertical-align: middle;\n",
       "    }\n",
       "\n",
       "    .dataframe tbody tr th {\n",
       "        vertical-align: top;\n",
       "    }\n",
       "\n",
       "    .dataframe thead th {\n",
       "        text-align: right;\n",
       "    }\n",
       "</style>\n",
       "<table border=\"1\" class=\"dataframe\">\n",
       "  <thead>\n",
       "    <tr style=\"text-align: right;\">\n",
       "      <th></th>\n",
       "      <th>SepalLength</th>\n",
       "      <th>SepalWidth</th>\n",
       "      <th>PetalLengthCm</th>\n",
       "      <th>Species</th>\n",
       "    </tr>\n",
       "  </thead>\n",
       "  <tbody>\n",
       "    <tr>\n",
       "      <th>114</th>\n",
       "      <td>5.8</td>\n",
       "      <td>2.8</td>\n",
       "      <td>5.272000</td>\n",
       "      <td>Iris-versicolor</td>\n",
       "    </tr>\n",
       "    <tr>\n",
       "      <th>62</th>\n",
       "      <td>6.0</td>\n",
       "      <td>2.2</td>\n",
       "      <td>4.178000</td>\n",
       "      <td>Iris-virginica</td>\n",
       "    </tr>\n",
       "    <tr>\n",
       "      <th>33</th>\n",
       "      <td>5.5</td>\n",
       "      <td>4.2</td>\n",
       "      <td>1.489000</td>\n",
       "      <td>Iris-versicolor</td>\n",
       "    </tr>\n",
       "    <tr>\n",
       "      <th>107</th>\n",
       "      <td>7.3</td>\n",
       "      <td>2.9</td>\n",
       "      <td>5.992000</td>\n",
       "      <td>Iris-versicolor</td>\n",
       "    </tr>\n",
       "    <tr>\n",
       "      <th>7</th>\n",
       "      <td>5.0</td>\n",
       "      <td>3.4</td>\n",
       "      <td>1.450000</td>\n",
       "      <td>Iris-versicolor</td>\n",
       "    </tr>\n",
       "    <tr>\n",
       "      <th>100</th>\n",
       "      <td>6.3</td>\n",
       "      <td>3.3</td>\n",
       "      <td>5.522000</td>\n",
       "      <td>Iris-versicolor</td>\n",
       "    </tr>\n",
       "    <tr>\n",
       "      <th>40</th>\n",
       "      <td>5.0</td>\n",
       "      <td>3.5</td>\n",
       "      <td>1.410000</td>\n",
       "      <td>Iris-versicolor</td>\n",
       "    </tr>\n",
       "    <tr>\n",
       "      <th>86</th>\n",
       "      <td>6.7</td>\n",
       "      <td>3.1</td>\n",
       "      <td>4.732000</td>\n",
       "      <td>Iris-virginica</td>\n",
       "    </tr>\n",
       "    <tr>\n",
       "      <th>76</th>\n",
       "      <td>6.8</td>\n",
       "      <td>2.8</td>\n",
       "      <td>4.584000</td>\n",
       "      <td>Iris-virginica</td>\n",
       "    </tr>\n",
       "    <tr>\n",
       "      <th>71</th>\n",
       "      <td>6.1</td>\n",
       "      <td>2.8</td>\n",
       "      <td>4.435333</td>\n",
       "      <td>Iris-virginica</td>\n",
       "    </tr>\n",
       "    <tr>\n",
       "      <th>134</th>\n",
       "      <td>6.1</td>\n",
       "      <td>2.6</td>\n",
       "      <td>4.832000</td>\n",
       "      <td>Iris-versicolor</td>\n",
       "    </tr>\n",
       "    <tr>\n",
       "      <th>51</th>\n",
       "      <td>6.4</td>\n",
       "      <td>3.2</td>\n",
       "      <td>4.739000</td>\n",
       "      <td>Iris-virginica</td>\n",
       "    </tr>\n",
       "    <tr>\n",
       "      <th>73</th>\n",
       "      <td>6.1</td>\n",
       "      <td>2.8</td>\n",
       "      <td>4.347333</td>\n",
       "      <td>Iris-virginica</td>\n",
       "    </tr>\n",
       "    <tr>\n",
       "      <th>54</th>\n",
       "      <td>6.5</td>\n",
       "      <td>2.8</td>\n",
       "      <td>4.689000</td>\n",
       "      <td>Iris-virginica</td>\n",
       "    </tr>\n",
       "    <tr>\n",
       "      <th>63</th>\n",
       "      <td>6.1</td>\n",
       "      <td>2.9</td>\n",
       "      <td>4.514000</td>\n",
       "      <td>Iris-virginica</td>\n",
       "    </tr>\n",
       "    <tr>\n",
       "      <th>37</th>\n",
       "      <td>4.9</td>\n",
       "      <td>3.1</td>\n",
       "      <td>1.494000</td>\n",
       "      <td>Iris-versicolor</td>\n",
       "    </tr>\n",
       "    <tr>\n",
       "      <th>78</th>\n",
       "      <td>6.0</td>\n",
       "      <td>2.9</td>\n",
       "      <td>4.589000</td>\n",
       "      <td>Iris-virginica</td>\n",
       "    </tr>\n",
       "    <tr>\n",
       "      <th>90</th>\n",
       "      <td>5.5</td>\n",
       "      <td>2.6</td>\n",
       "      <td>3.947000</td>\n",
       "      <td>Iris-virginica</td>\n",
       "    </tr>\n",
       "    <tr>\n",
       "      <th>45</th>\n",
       "      <td>4.8</td>\n",
       "      <td>3.0</td>\n",
       "      <td>1.482000</td>\n",
       "      <td>Iris-versicolor</td>\n",
       "    </tr>\n",
       "    <tr>\n",
       "      <th>16</th>\n",
       "      <td>5.4</td>\n",
       "      <td>3.9</td>\n",
       "      <td>1.629000</td>\n",
       "      <td>Iris-versicolor</td>\n",
       "    </tr>\n",
       "    <tr>\n",
       "      <th>121</th>\n",
       "      <td>5.6</td>\n",
       "      <td>2.8</td>\n",
       "      <td>5.094000</td>\n",
       "      <td>Iris-versicolor</td>\n",
       "    </tr>\n",
       "    <tr>\n",
       "      <th>66</th>\n",
       "      <td>5.6</td>\n",
       "      <td>3.0</td>\n",
       "      <td>4.139000</td>\n",
       "      <td>Iris-virginica</td>\n",
       "    </tr>\n",
       "    <tr>\n",
       "      <th>24</th>\n",
       "      <td>4.8</td>\n",
       "      <td>3.4</td>\n",
       "      <td>1.555200</td>\n",
       "      <td>Iris-versicolor</td>\n",
       "    </tr>\n",
       "    <tr>\n",
       "      <th>8</th>\n",
       "      <td>4.4</td>\n",
       "      <td>2.9</td>\n",
       "      <td>1.289000</td>\n",
       "      <td>Iris-versicolor</td>\n",
       "    </tr>\n",
       "    <tr>\n",
       "      <th>126</th>\n",
       "      <td>6.2</td>\n",
       "      <td>2.8</td>\n",
       "      <td>5.260000</td>\n",
       "      <td>Iris-versicolor</td>\n",
       "    </tr>\n",
       "    <tr>\n",
       "      <th>22</th>\n",
       "      <td>4.6</td>\n",
       "      <td>3.6</td>\n",
       "      <td>1.447000</td>\n",
       "      <td>Iris-versicolor</td>\n",
       "    </tr>\n",
       "    <tr>\n",
       "      <th>44</th>\n",
       "      <td>5.1</td>\n",
       "      <td>3.8</td>\n",
       "      <td>1.552000</td>\n",
       "      <td>Iris-versicolor</td>\n",
       "    </tr>\n",
       "    <tr>\n",
       "      <th>97</th>\n",
       "      <td>6.2</td>\n",
       "      <td>2.9</td>\n",
       "      <td>4.435000</td>\n",
       "      <td>Iris-virginica</td>\n",
       "    </tr>\n",
       "    <tr>\n",
       "      <th>93</th>\n",
       "      <td>5.0</td>\n",
       "      <td>2.3</td>\n",
       "      <td>3.357000</td>\n",
       "      <td>Iris-virginica</td>\n",
       "    </tr>\n",
       "    <tr>\n",
       "      <th>26</th>\n",
       "      <td>5.0</td>\n",
       "      <td>3.4</td>\n",
       "      <td>1.488000</td>\n",
       "      <td>Iris-versicolor</td>\n",
       "    </tr>\n",
       "    <tr>\n",
       "      <th>137</th>\n",
       "      <td>6.4</td>\n",
       "      <td>3.1</td>\n",
       "      <td>5.417000</td>\n",
       "      <td>Iris-versicolor</td>\n",
       "    </tr>\n",
       "    <tr>\n",
       "      <th>84</th>\n",
       "      <td>5.4</td>\n",
       "      <td>3.0</td>\n",
       "      <td>4.103000</td>\n",
       "      <td>Iris-virginica</td>\n",
       "    </tr>\n",
       "    <tr>\n",
       "      <th>27</th>\n",
       "      <td>5.2</td>\n",
       "      <td>3.5</td>\n",
       "      <td>1.418000</td>\n",
       "      <td>Iris-versicolor</td>\n",
       "    </tr>\n",
       "    <tr>\n",
       "      <th>127</th>\n",
       "      <td>6.1</td>\n",
       "      <td>3.0</td>\n",
       "      <td>4.944000</td>\n",
       "      <td>Iris-versicolor</td>\n",
       "    </tr>\n",
       "    <tr>\n",
       "      <th>132</th>\n",
       "      <td>6.4</td>\n",
       "      <td>2.8</td>\n",
       "      <td>5.570000</td>\n",
       "      <td>Iris-versicolor</td>\n",
       "    </tr>\n",
       "    <tr>\n",
       "      <th>59</th>\n",
       "      <td>5.2</td>\n",
       "      <td>2.7</td>\n",
       "      <td>3.716000</td>\n",
       "      <td>Iris-virginica</td>\n",
       "    </tr>\n",
       "    <tr>\n",
       "      <th>18</th>\n",
       "      <td>5.7</td>\n",
       "      <td>3.8</td>\n",
       "      <td>1.476000</td>\n",
       "      <td>Iris-versicolor</td>\n",
       "    </tr>\n",
       "    <tr>\n",
       "      <th>83</th>\n",
       "      <td>6.0</td>\n",
       "      <td>2.7</td>\n",
       "      <td>4.627000</td>\n",
       "      <td>Iris-virginica</td>\n",
       "    </tr>\n",
       "  </tbody>\n",
       "</table>\n",
       "</div>"
      ],
      "text/plain": [
       "     SepalLength  SepalWidth  PetalLengthCm          Species\n",
       "114          5.8         2.8       5.272000  Iris-versicolor\n",
       "62           6.0         2.2       4.178000   Iris-virginica\n",
       "33           5.5         4.2       1.489000  Iris-versicolor\n",
       "107          7.3         2.9       5.992000  Iris-versicolor\n",
       "7            5.0         3.4       1.450000  Iris-versicolor\n",
       "100          6.3         3.3       5.522000  Iris-versicolor\n",
       "40           5.0         3.5       1.410000  Iris-versicolor\n",
       "86           6.7         3.1       4.732000   Iris-virginica\n",
       "76           6.8         2.8       4.584000   Iris-virginica\n",
       "71           6.1         2.8       4.435333   Iris-virginica\n",
       "134          6.1         2.6       4.832000  Iris-versicolor\n",
       "51           6.4         3.2       4.739000   Iris-virginica\n",
       "73           6.1         2.8       4.347333   Iris-virginica\n",
       "54           6.5         2.8       4.689000   Iris-virginica\n",
       "63           6.1         2.9       4.514000   Iris-virginica\n",
       "37           4.9         3.1       1.494000  Iris-versicolor\n",
       "78           6.0         2.9       4.589000   Iris-virginica\n",
       "90           5.5         2.6       3.947000   Iris-virginica\n",
       "45           4.8         3.0       1.482000  Iris-versicolor\n",
       "16           5.4         3.9       1.629000  Iris-versicolor\n",
       "121          5.6         2.8       5.094000  Iris-versicolor\n",
       "66           5.6         3.0       4.139000   Iris-virginica\n",
       "24           4.8         3.4       1.555200  Iris-versicolor\n",
       "8            4.4         2.9       1.289000  Iris-versicolor\n",
       "126          6.2         2.8       5.260000  Iris-versicolor\n",
       "22           4.6         3.6       1.447000  Iris-versicolor\n",
       "44           5.1         3.8       1.552000  Iris-versicolor\n",
       "97           6.2         2.9       4.435000   Iris-virginica\n",
       "93           5.0         2.3       3.357000   Iris-virginica\n",
       "26           5.0         3.4       1.488000  Iris-versicolor\n",
       "137          6.4         3.1       5.417000  Iris-versicolor\n",
       "84           5.4         3.0       4.103000   Iris-virginica\n",
       "27           5.2         3.5       1.418000  Iris-versicolor\n",
       "127          6.1         3.0       4.944000  Iris-versicolor\n",
       "132          6.4         2.8       5.570000  Iris-versicolor\n",
       "59           5.2         2.7       3.716000   Iris-virginica\n",
       "18           5.7         3.8       1.476000  Iris-versicolor\n",
       "83           6.0         2.7       4.627000   Iris-virginica"
      ]
     },
     "execution_count": 38,
     "metadata": {},
     "output_type": "execute_result"
    }
   ],
   "source": [
    "submission_file"
   ]
  },
  {
   "cell_type": "code",
   "execution_count": null,
   "id": "5e9b70a5",
   "metadata": {
    "papermill": {
     "duration": 0.016754,
     "end_time": "2023-06-15T14:35:33.758536",
     "exception": false,
     "start_time": "2023-06-15T14:35:33.741782",
     "status": "completed"
    },
    "tags": []
   },
   "outputs": [],
   "source": []
  }
 ],
 "metadata": {
  "kernelspec": {
   "display_name": "Python 3",
   "language": "python",
   "name": "python3"
  },
  "language_info": {
   "codemirror_mode": {
    "name": "ipython",
    "version": 3
   },
   "file_extension": ".py",
   "mimetype": "text/x-python",
   "name": "python",
   "nbconvert_exporter": "python",
   "pygments_lexer": "ipython3",
   "version": "3.10.10"
  },
  "papermill": {
   "default_parameters": {},
   "duration": 15.961454,
   "end_time": "2023-06-15T14:35:34.595263",
   "environment_variables": {},
   "exception": null,
   "input_path": "__notebook__.ipynb",
   "output_path": "__notebook__.ipynb",
   "parameters": {},
   "start_time": "2023-06-15T14:35:18.633809",
   "version": "2.4.0"
  }
 },
 "nbformat": 4,
 "nbformat_minor": 5
}
